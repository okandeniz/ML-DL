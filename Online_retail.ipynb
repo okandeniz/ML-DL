{
 "cells": [
  {
   "cell_type": "markdown",
   "id": "25bcb663",
   "metadata": {},
   "source": [
    "# Online Retail 2 Data Set\n",
    "\n",
    "Çalışmanın amacı RFM ile müşterilerin ne kadar süre önce alışveriş yaptıkları, her bir müşteriye ait fatura adetleri ve herbir müşterinin toplam harcamasını hesaplayıp, bu özelliklere göre kmeans denetimsiz öğrenme algoritmasını kullanarak müşterileri gruplandırmaktır. Veri ön işleme ve keşifci veri analizi adımlarından sonra RFM hesaplanıp, kmeans modeli oluşturulacaktır."
   ]
  },
  {
   "cell_type": "code",
   "execution_count": 1,
   "id": "258e61d3",
   "metadata": {},
   "outputs": [],
   "source": [
    "import pandas as pd\n",
    "import numpy as np\n",
    "import matplotlib.pyplot as plt\n",
    "import seaborn as sns"
   ]
  },
  {
   "cell_type": "code",
   "execution_count": 2,
   "id": "19c83524",
   "metadata": {},
   "outputs": [
    {
     "data": {
      "text/html": [
       "<div>\n",
       "<style scoped>\n",
       "    .dataframe tbody tr th:only-of-type {\n",
       "        vertical-align: middle;\n",
       "    }\n",
       "\n",
       "    .dataframe tbody tr th {\n",
       "        vertical-align: top;\n",
       "    }\n",
       "\n",
       "    .dataframe thead th {\n",
       "        text-align: right;\n",
       "    }\n",
       "</style>\n",
       "<table border=\"1\" class=\"dataframe\">\n",
       "  <thead>\n",
       "    <tr style=\"text-align: right;\">\n",
       "      <th></th>\n",
       "      <th>Unnamed: 0</th>\n",
       "      <th>Invoice</th>\n",
       "      <th>StockCode</th>\n",
       "      <th>Description</th>\n",
       "      <th>Quantity</th>\n",
       "      <th>InvoiceDate</th>\n",
       "      <th>Price</th>\n",
       "      <th>Customer ID</th>\n",
       "      <th>Country</th>\n",
       "    </tr>\n",
       "  </thead>\n",
       "  <tbody>\n",
       "    <tr>\n",
       "      <th>0</th>\n",
       "      <td>0</td>\n",
       "      <td>536365</td>\n",
       "      <td>85123A</td>\n",
       "      <td>WHITE HANGING HEART T-LIGHT HOLDER</td>\n",
       "      <td>6</td>\n",
       "      <td>2010-12-01 08:26:00</td>\n",
       "      <td>2.55</td>\n",
       "      <td>17850.0</td>\n",
       "      <td>United Kingdom</td>\n",
       "    </tr>\n",
       "    <tr>\n",
       "      <th>1</th>\n",
       "      <td>1</td>\n",
       "      <td>536365</td>\n",
       "      <td>71053</td>\n",
       "      <td>WHITE METAL LANTERN</td>\n",
       "      <td>6</td>\n",
       "      <td>2010-12-01 08:26:00</td>\n",
       "      <td>3.39</td>\n",
       "      <td>17850.0</td>\n",
       "      <td>United Kingdom</td>\n",
       "    </tr>\n",
       "    <tr>\n",
       "      <th>2</th>\n",
       "      <td>2</td>\n",
       "      <td>536365</td>\n",
       "      <td>84406B</td>\n",
       "      <td>CREAM CUPID HEARTS COAT HANGER</td>\n",
       "      <td>8</td>\n",
       "      <td>2010-12-01 08:26:00</td>\n",
       "      <td>2.75</td>\n",
       "      <td>17850.0</td>\n",
       "      <td>United Kingdom</td>\n",
       "    </tr>\n",
       "    <tr>\n",
       "      <th>3</th>\n",
       "      <td>3</td>\n",
       "      <td>536365</td>\n",
       "      <td>84029G</td>\n",
       "      <td>KNITTED UNION FLAG HOT WATER BOTTLE</td>\n",
       "      <td>6</td>\n",
       "      <td>2010-12-01 08:26:00</td>\n",
       "      <td>3.39</td>\n",
       "      <td>17850.0</td>\n",
       "      <td>United Kingdom</td>\n",
       "    </tr>\n",
       "    <tr>\n",
       "      <th>4</th>\n",
       "      <td>4</td>\n",
       "      <td>536365</td>\n",
       "      <td>84029E</td>\n",
       "      <td>RED WOOLLY HOTTIE WHITE HEART.</td>\n",
       "      <td>6</td>\n",
       "      <td>2010-12-01 08:26:00</td>\n",
       "      <td>3.39</td>\n",
       "      <td>17850.0</td>\n",
       "      <td>United Kingdom</td>\n",
       "    </tr>\n",
       "  </tbody>\n",
       "</table>\n",
       "</div>"
      ],
      "text/plain": [
       "   Unnamed: 0 Invoice StockCode                          Description  \\\n",
       "0           0  536365    85123A   WHITE HANGING HEART T-LIGHT HOLDER   \n",
       "1           1  536365     71053                  WHITE METAL LANTERN   \n",
       "2           2  536365    84406B       CREAM CUPID HEARTS COAT HANGER   \n",
       "3           3  536365    84029G  KNITTED UNION FLAG HOT WATER BOTTLE   \n",
       "4           4  536365    84029E       RED WOOLLY HOTTIE WHITE HEART.   \n",
       "\n",
       "   Quantity          InvoiceDate  Price  Customer ID         Country  \n",
       "0         6  2010-12-01 08:26:00   2.55      17850.0  United Kingdom  \n",
       "1         6  2010-12-01 08:26:00   3.39      17850.0  United Kingdom  \n",
       "2         8  2010-12-01 08:26:00   2.75      17850.0  United Kingdom  \n",
       "3         6  2010-12-01 08:26:00   3.39      17850.0  United Kingdom  \n",
       "4         6  2010-12-01 08:26:00   3.39      17850.0  United Kingdom  "
      ]
     },
     "execution_count": 2,
     "metadata": {},
     "output_type": "execute_result"
    }
   ],
   "source": [
    "data=pd.read_csv(\"online_retail_II.csv\")\n",
    "veri=data.copy()\n",
    "veri.head()"
   ]
  },
  {
   "cell_type": "code",
   "execution_count": 3,
   "id": "2b3bbfc4",
   "metadata": {},
   "outputs": [
    {
     "data": {
      "text/html": [
       "<div>\n",
       "<style scoped>\n",
       "    .dataframe tbody tr th:only-of-type {\n",
       "        vertical-align: middle;\n",
       "    }\n",
       "\n",
       "    .dataframe tbody tr th {\n",
       "        vertical-align: top;\n",
       "    }\n",
       "\n",
       "    .dataframe thead th {\n",
       "        text-align: right;\n",
       "    }\n",
       "</style>\n",
       "<table border=\"1\" class=\"dataframe\">\n",
       "  <thead>\n",
       "    <tr style=\"text-align: right;\">\n",
       "      <th></th>\n",
       "      <th>Invoice</th>\n",
       "      <th>StockCode</th>\n",
       "      <th>Description</th>\n",
       "      <th>Quantity</th>\n",
       "      <th>InvoiceDate</th>\n",
       "      <th>Price</th>\n",
       "      <th>Customer ID</th>\n",
       "      <th>Country</th>\n",
       "    </tr>\n",
       "  </thead>\n",
       "  <tbody>\n",
       "    <tr>\n",
       "      <th>0</th>\n",
       "      <td>536365</td>\n",
       "      <td>85123A</td>\n",
       "      <td>WHITE HANGING HEART T-LIGHT HOLDER</td>\n",
       "      <td>6</td>\n",
       "      <td>2010-12-01 08:26:00</td>\n",
       "      <td>2.55</td>\n",
       "      <td>17850.0</td>\n",
       "      <td>United Kingdom</td>\n",
       "    </tr>\n",
       "    <tr>\n",
       "      <th>1</th>\n",
       "      <td>536365</td>\n",
       "      <td>71053</td>\n",
       "      <td>WHITE METAL LANTERN</td>\n",
       "      <td>6</td>\n",
       "      <td>2010-12-01 08:26:00</td>\n",
       "      <td>3.39</td>\n",
       "      <td>17850.0</td>\n",
       "      <td>United Kingdom</td>\n",
       "    </tr>\n",
       "    <tr>\n",
       "      <th>2</th>\n",
       "      <td>536365</td>\n",
       "      <td>84406B</td>\n",
       "      <td>CREAM CUPID HEARTS COAT HANGER</td>\n",
       "      <td>8</td>\n",
       "      <td>2010-12-01 08:26:00</td>\n",
       "      <td>2.75</td>\n",
       "      <td>17850.0</td>\n",
       "      <td>United Kingdom</td>\n",
       "    </tr>\n",
       "    <tr>\n",
       "      <th>3</th>\n",
       "      <td>536365</td>\n",
       "      <td>84029G</td>\n",
       "      <td>KNITTED UNION FLAG HOT WATER BOTTLE</td>\n",
       "      <td>6</td>\n",
       "      <td>2010-12-01 08:26:00</td>\n",
       "      <td>3.39</td>\n",
       "      <td>17850.0</td>\n",
       "      <td>United Kingdom</td>\n",
       "    </tr>\n",
       "    <tr>\n",
       "      <th>4</th>\n",
       "      <td>536365</td>\n",
       "      <td>84029E</td>\n",
       "      <td>RED WOOLLY HOTTIE WHITE HEART.</td>\n",
       "      <td>6</td>\n",
       "      <td>2010-12-01 08:26:00</td>\n",
       "      <td>3.39</td>\n",
       "      <td>17850.0</td>\n",
       "      <td>United Kingdom</td>\n",
       "    </tr>\n",
       "  </tbody>\n",
       "</table>\n",
       "</div>"
      ],
      "text/plain": [
       "  Invoice StockCode                          Description  Quantity  \\\n",
       "0  536365    85123A   WHITE HANGING HEART T-LIGHT HOLDER         6   \n",
       "1  536365     71053                  WHITE METAL LANTERN         6   \n",
       "2  536365    84406B       CREAM CUPID HEARTS COAT HANGER         8   \n",
       "3  536365    84029G  KNITTED UNION FLAG HOT WATER BOTTLE         6   \n",
       "4  536365    84029E       RED WOOLLY HOTTIE WHITE HEART.         6   \n",
       "\n",
       "           InvoiceDate  Price  Customer ID         Country  \n",
       "0  2010-12-01 08:26:00   2.55      17850.0  United Kingdom  \n",
       "1  2010-12-01 08:26:00   3.39      17850.0  United Kingdom  \n",
       "2  2010-12-01 08:26:00   2.75      17850.0  United Kingdom  \n",
       "3  2010-12-01 08:26:00   3.39      17850.0  United Kingdom  \n",
       "4  2010-12-01 08:26:00   3.39      17850.0  United Kingdom  "
      ]
     },
     "execution_count": 3,
     "metadata": {},
     "output_type": "execute_result"
    }
   ],
   "source": [
    "veri=veri.drop(columns=\"Unnamed: 0\")\n",
    "veri.head()"
   ]
  },
  {
   "cell_type": "markdown",
   "id": "bca582c2",
   "metadata": {},
   "source": [
    "* InvoiceNo: Invoice number. Nominal. A 6-digit integral number uniquely assigned to each transaction. If this code starts with the letter 'c', it indicates a cancellation.\n",
    "* StockCode: Product (item) code. Nominal. A 5-digit integral number uniquely assigned to each distinct product.\n",
    "* Description: Product (item) name. Nominal.\n",
    "* Quantity: The quantities of each product (item) per transaction. Numeric.\n",
    "* InvoiceDate: Invice date and time. Numeric. The day and time when a transaction was generated.\n",
    "* UnitPrice: Unit price. Numeric. Product price per unit in sterling (Â£).\n",
    "* CustomerID: Customer number. Nominal. A 5-digit integral number uniquely assigned to each customer.\n",
    "* Country: Country name. Nominal. The name of the country where a customer resides.\n"
   ]
  },
  {
   "cell_type": "code",
   "execution_count": 4,
   "id": "d769a0e4",
   "metadata": {},
   "outputs": [
    {
     "name": "stdout",
     "output_type": "stream",
     "text": [
      "<class 'pandas.core.frame.DataFrame'>\n",
      "RangeIndex: 541910 entries, 0 to 541909\n",
      "Data columns (total 8 columns):\n",
      " #   Column       Non-Null Count   Dtype  \n",
      "---  ------       --------------   -----  \n",
      " 0   Invoice      541910 non-null  object \n",
      " 1   StockCode    541910 non-null  object \n",
      " 2   Description  540456 non-null  object \n",
      " 3   Quantity     541910 non-null  int64  \n",
      " 4   InvoiceDate  541910 non-null  object \n",
      " 5   Price        541910 non-null  float64\n",
      " 6   Customer ID  406830 non-null  float64\n",
      " 7   Country      541910 non-null  object \n",
      "dtypes: float64(2), int64(1), object(5)\n",
      "memory usage: 33.1+ MB\n"
     ]
    }
   ],
   "source": [
    "veri.info()"
   ]
  },
  {
   "cell_type": "code",
   "execution_count": 5,
   "id": "ea8dff9d",
   "metadata": {},
   "outputs": [
    {
     "data": {
      "text/plain": [
       "Invoice        0.000000\n",
       "StockCode      0.000000\n",
       "Description    0.002683\n",
       "Quantity       0.000000\n",
       "InvoiceDate    0.000000\n",
       "Price          0.000000\n",
       "Customer ID    0.249266\n",
       "Country        0.000000\n",
       "dtype: float64"
      ]
     },
     "execution_count": 5,
     "metadata": {},
     "output_type": "execute_result"
    }
   ],
   "source": [
    "veri.isnull().sum()/len(veri)"
   ]
  },
  {
   "cell_type": "code",
   "execution_count": 6,
   "id": "be6e5169",
   "metadata": {},
   "outputs": [
    {
     "data": {
      "text/plain": [
       "Invoice        0.0\n",
       "StockCode      0.0\n",
       "Description    0.0\n",
       "Quantity       0.0\n",
       "InvoiceDate    0.0\n",
       "Price          0.0\n",
       "Customer ID    0.0\n",
       "Country        0.0\n",
       "dtype: float64"
      ]
     },
     "execution_count": 6,
     "metadata": {},
     "output_type": "execute_result"
    }
   ],
   "source": [
    "veri=veri.dropna()\n",
    "veri.isnull().sum()/len(veri)"
   ]
  },
  {
   "cell_type": "code",
   "execution_count": 7,
   "id": "1df6d234",
   "metadata": {},
   "outputs": [
    {
     "data": {
      "text/plain": [
       "(5225, 8)"
      ]
     },
     "execution_count": 7,
     "metadata": {},
     "output_type": "execute_result"
    }
   ],
   "source": [
    "veri[veri.duplicated()].shape"
   ]
  },
  {
   "cell_type": "code",
   "execution_count": 8,
   "id": "84e499a7",
   "metadata": {},
   "outputs": [
    {
     "data": {
      "text/plain": [
       "(401605, 8)"
      ]
     },
     "execution_count": 8,
     "metadata": {},
     "output_type": "execute_result"
    }
   ],
   "source": [
    "veri=veri.drop_duplicates(keep=\"first\") # tekrarlanan verileri silme:\n",
    "veri.shape"
   ]
  },
  {
   "cell_type": "code",
   "execution_count": 9,
   "id": "c2de8428",
   "metadata": {},
   "outputs": [],
   "source": [
    "veri.reset_index(drop=True, inplace=True)"
   ]
  },
  {
   "cell_type": "code",
   "execution_count": 10,
   "id": "ac4f4313",
   "metadata": {},
   "outputs": [
    {
     "data": {
      "text/plain": [
       "Index(['Invoice', 'StockCode', 'Description', 'Quantity', 'InvoiceDate',\n",
       "       'Price', 'Customer ID', 'Country'],\n",
       "      dtype='object')"
      ]
     },
     "execution_count": 10,
     "metadata": {},
     "output_type": "execute_result"
    }
   ],
   "source": [
    "veri.columns"
   ]
  },
  {
   "cell_type": "markdown",
   "id": "b09df457",
   "metadata": {},
   "source": [
    "# Değişken isimlerini Türkçe Yapmak:"
   ]
  },
  {
   "cell_type": "code",
   "execution_count": 11,
   "id": "fa91731b",
   "metadata": {},
   "outputs": [
    {
     "name": "stdout",
     "output_type": "stream",
     "text": [
      "  Fatura No Stok Kodu                             Ürün Adı  Adet  \\\n",
      "0    536365    85123A   WHITE HANGING HEART T-LIGHT HOLDER     6   \n",
      "1    536365     71053                  WHITE METAL LANTERN     6   \n",
      "2    536365    84406B       CREAM CUPID HEARTS COAT HANGER     8   \n",
      "3    536365    84029G  KNITTED UNION FLAG HOT WATER BOTTLE     6   \n",
      "4    536365    84029E       RED WOOLLY HOTTIE WHITE HEART.     6   \n",
      "\n",
      "         Fatura Tarihi  Birim Fiyat  Müşteri ID            Ülke  \n",
      "0  2010-12-01 08:26:00         2.55     17850.0  United Kingdom  \n",
      "1  2010-12-01 08:26:00         3.39     17850.0  United Kingdom  \n",
      "2  2010-12-01 08:26:00         2.75     17850.0  United Kingdom  \n",
      "3  2010-12-01 08:26:00         3.39     17850.0  United Kingdom  \n",
      "4  2010-12-01 08:26:00         3.39     17850.0  United Kingdom  \n"
     ]
    }
   ],
   "source": [
    "veri.rename(columns={\"Invoice\":\"Fatura No\",\"StockCode\":\"Stok Kodu\",\"Description\":\"Ürün Adı\",\n",
    "\"Quantity\":\"Adet\",\"InvoiceDate\":\"Fatura Tarihi\",\"Price\":\"Birim Fiyat\",\"Customer ID\":\"Müşteri ID\",\"Country\":\"Ülke\"}, inplace=True)\n",
    "\n",
    "print(veri.head())"
   ]
  },
  {
   "cell_type": "markdown",
   "id": "77143ec3",
   "metadata": {},
   "source": [
    "# Veri Ön İşleme"
   ]
  },
  {
   "cell_type": "code",
   "execution_count": 12,
   "id": "cf27720f",
   "metadata": {},
   "outputs": [],
   "source": [
    "# İptal faturalarını veri setinden çıkartalım:\n",
    "veri = veri[~veri[\"Fatura No\"].str.contains(\"C\")]\n",
    "# fatura tarihini tarih yapısına çevirme:\n",
    "veri[\"Fatura Tarihi\"]=pd.to_datetime(veri[\"Fatura Tarihi\"])"
   ]
  },
  {
   "cell_type": "code",
   "execution_count": 13,
   "id": "976f0d63",
   "metadata": {},
   "outputs": [
    {
     "data": {
      "text/html": [
       "<div>\n",
       "<style scoped>\n",
       "    .dataframe tbody tr th:only-of-type {\n",
       "        vertical-align: middle;\n",
       "    }\n",
       "\n",
       "    .dataframe tbody tr th {\n",
       "        vertical-align: top;\n",
       "    }\n",
       "\n",
       "    .dataframe thead th {\n",
       "        text-align: right;\n",
       "    }\n",
       "</style>\n",
       "<table border=\"1\" class=\"dataframe\">\n",
       "  <thead>\n",
       "    <tr style=\"text-align: right;\">\n",
       "      <th></th>\n",
       "      <th>Fatura No</th>\n",
       "      <th>Stok Kodu</th>\n",
       "      <th>Ürün Adı</th>\n",
       "      <th>Adet</th>\n",
       "      <th>Fatura Tarihi</th>\n",
       "      <th>Birim Fiyat</th>\n",
       "      <th>Müşteri ID</th>\n",
       "      <th>Ülke</th>\n",
       "    </tr>\n",
       "  </thead>\n",
       "  <tbody>\n",
       "  </tbody>\n",
       "</table>\n",
       "</div>"
      ],
      "text/plain": [
       "Empty DataFrame\n",
       "Columns: [Fatura No, Stok Kodu, Ürün Adı, Adet, Fatura Tarihi, Birim Fiyat, Müşteri ID, Ülke]\n",
       "Index: []"
      ]
     },
     "execution_count": 13,
     "metadata": {},
     "output_type": "execute_result"
    }
   ],
   "source": [
    "# Faturanın 6 haneli sayı olmalı kontrol edelim:\n",
    "veri[(veri[\"Fatura No\"].str.len()!=6) | (~veri[\"Fatura No\"].str.isdigit())]"
   ]
  },
  {
   "cell_type": "code",
   "execution_count": 14,
   "id": "1249e8c7",
   "metadata": {},
   "outputs": [
    {
     "data": {
      "text/html": [
       "<div>\n",
       "<style scoped>\n",
       "    .dataframe tbody tr th:only-of-type {\n",
       "        vertical-align: middle;\n",
       "    }\n",
       "\n",
       "    .dataframe tbody tr th {\n",
       "        vertical-align: top;\n",
       "    }\n",
       "\n",
       "    .dataframe thead th {\n",
       "        text-align: right;\n",
       "    }\n",
       "</style>\n",
       "<table border=\"1\" class=\"dataframe\">\n",
       "  <thead>\n",
       "    <tr style=\"text-align: right;\">\n",
       "      <th></th>\n",
       "      <th>Fatura No</th>\n",
       "      <th>Stok Kodu</th>\n",
       "      <th>Ürün Adı</th>\n",
       "      <th>Adet</th>\n",
       "      <th>Fatura Tarihi</th>\n",
       "      <th>Birim Fiyat</th>\n",
       "      <th>Müşteri ID</th>\n",
       "      <th>Ülke</th>\n",
       "    </tr>\n",
       "  </thead>\n",
       "  <tbody>\n",
       "    <tr>\n",
       "      <th>0</th>\n",
       "      <td>536365</td>\n",
       "      <td>85123A</td>\n",
       "      <td>WHITE HANGING HEART T-LIGHT HOLDER</td>\n",
       "      <td>6</td>\n",
       "      <td>2010-12-01 08:26:00</td>\n",
       "      <td>2.55</td>\n",
       "      <td>17850.0</td>\n",
       "      <td>United Kingdom</td>\n",
       "    </tr>\n",
       "    <tr>\n",
       "      <th>2</th>\n",
       "      <td>536365</td>\n",
       "      <td>84406B</td>\n",
       "      <td>CREAM CUPID HEARTS COAT HANGER</td>\n",
       "      <td>8</td>\n",
       "      <td>2010-12-01 08:26:00</td>\n",
       "      <td>2.75</td>\n",
       "      <td>17850.0</td>\n",
       "      <td>United Kingdom</td>\n",
       "    </tr>\n",
       "    <tr>\n",
       "      <th>3</th>\n",
       "      <td>536365</td>\n",
       "      <td>84029G</td>\n",
       "      <td>KNITTED UNION FLAG HOT WATER BOTTLE</td>\n",
       "      <td>6</td>\n",
       "      <td>2010-12-01 08:26:00</td>\n",
       "      <td>3.39</td>\n",
       "      <td>17850.0</td>\n",
       "      <td>United Kingdom</td>\n",
       "    </tr>\n",
       "    <tr>\n",
       "      <th>4</th>\n",
       "      <td>536365</td>\n",
       "      <td>84029E</td>\n",
       "      <td>RED WOOLLY HOTTIE WHITE HEART.</td>\n",
       "      <td>6</td>\n",
       "      <td>2010-12-01 08:26:00</td>\n",
       "      <td>3.39</td>\n",
       "      <td>17850.0</td>\n",
       "      <td>United Kingdom</td>\n",
       "    </tr>\n",
       "    <tr>\n",
       "      <th>45</th>\n",
       "      <td>536370</td>\n",
       "      <td>POST</td>\n",
       "      <td>POSTAGE</td>\n",
       "      <td>3</td>\n",
       "      <td>2010-12-01 08:45:00</td>\n",
       "      <td>18.00</td>\n",
       "      <td>12583.0</td>\n",
       "      <td>France</td>\n",
       "    </tr>\n",
       "    <tr>\n",
       "      <th>...</th>\n",
       "      <td>...</td>\n",
       "      <td>...</td>\n",
       "      <td>...</td>\n",
       "      <td>...</td>\n",
       "      <td>...</td>\n",
       "      <td>...</td>\n",
       "      <td>...</td>\n",
       "      <td>...</td>\n",
       "    </tr>\n",
       "    <tr>\n",
       "      <th>401504</th>\n",
       "      <td>581579</td>\n",
       "      <td>85099C</td>\n",
       "      <td>JUMBO  BAG BAROQUE BLACK WHITE</td>\n",
       "      <td>10</td>\n",
       "      <td>2011-12-09 12:19:00</td>\n",
       "      <td>1.79</td>\n",
       "      <td>17581.0</td>\n",
       "      <td>United Kingdom</td>\n",
       "    </tr>\n",
       "    <tr>\n",
       "      <th>401536</th>\n",
       "      <td>581580</td>\n",
       "      <td>84993A</td>\n",
       "      <td>75 GREEN PETIT FOUR CASES</td>\n",
       "      <td>2</td>\n",
       "      <td>2011-12-09 12:20:00</td>\n",
       "      <td>0.42</td>\n",
       "      <td>12748.0</td>\n",
       "      <td>United Kingdom</td>\n",
       "    </tr>\n",
       "    <tr>\n",
       "      <th>401542</th>\n",
       "      <td>581580</td>\n",
       "      <td>85049A</td>\n",
       "      <td>TRADITIONAL CHRISTMAS RIBBONS</td>\n",
       "      <td>1</td>\n",
       "      <td>2011-12-09 12:20:00</td>\n",
       "      <td>1.25</td>\n",
       "      <td>12748.0</td>\n",
       "      <td>United Kingdom</td>\n",
       "    </tr>\n",
       "    <tr>\n",
       "      <th>401551</th>\n",
       "      <td>581580</td>\n",
       "      <td>85049E</td>\n",
       "      <td>SCANDINAVIAN REDS RIBBONS</td>\n",
       "      <td>2</td>\n",
       "      <td>2011-12-09 12:20:00</td>\n",
       "      <td>1.25</td>\n",
       "      <td>12748.0</td>\n",
       "      <td>United Kingdom</td>\n",
       "    </tr>\n",
       "    <tr>\n",
       "      <th>401604</th>\n",
       "      <td>581587</td>\n",
       "      <td>POST</td>\n",
       "      <td>POSTAGE</td>\n",
       "      <td>1</td>\n",
       "      <td>2011-12-09 12:50:00</td>\n",
       "      <td>18.00</td>\n",
       "      <td>12680.0</td>\n",
       "      <td>France</td>\n",
       "    </tr>\n",
       "  </tbody>\n",
       "</table>\n",
       "<p>34424 rows × 8 columns</p>\n",
       "</div>"
      ],
      "text/plain": [
       "       Fatura No Stok Kodu                             Ürün Adı  Adet  \\\n",
       "0         536365    85123A   WHITE HANGING HEART T-LIGHT HOLDER     6   \n",
       "2         536365    84406B       CREAM CUPID HEARTS COAT HANGER     8   \n",
       "3         536365    84029G  KNITTED UNION FLAG HOT WATER BOTTLE     6   \n",
       "4         536365    84029E       RED WOOLLY HOTTIE WHITE HEART.     6   \n",
       "45        536370      POST                              POSTAGE     3   \n",
       "...          ...       ...                                  ...   ...   \n",
       "401504    581579    85099C       JUMBO  BAG BAROQUE BLACK WHITE    10   \n",
       "401536    581580    84993A            75 GREEN PETIT FOUR CASES     2   \n",
       "401542    581580    85049A        TRADITIONAL CHRISTMAS RIBBONS     1   \n",
       "401551    581580    85049E            SCANDINAVIAN REDS RIBBONS     2   \n",
       "401604    581587      POST                              POSTAGE     1   \n",
       "\n",
       "             Fatura Tarihi  Birim Fiyat  Müşteri ID            Ülke  \n",
       "0      2010-12-01 08:26:00         2.55     17850.0  United Kingdom  \n",
       "2      2010-12-01 08:26:00         2.75     17850.0  United Kingdom  \n",
       "3      2010-12-01 08:26:00         3.39     17850.0  United Kingdom  \n",
       "4      2010-12-01 08:26:00         3.39     17850.0  United Kingdom  \n",
       "45     2010-12-01 08:45:00        18.00     12583.0          France  \n",
       "...                    ...          ...         ...             ...  \n",
       "401504 2011-12-09 12:19:00         1.79     17581.0  United Kingdom  \n",
       "401536 2011-12-09 12:20:00         0.42     12748.0  United Kingdom  \n",
       "401542 2011-12-09 12:20:00         1.25     12748.0  United Kingdom  \n",
       "401551 2011-12-09 12:20:00         1.25     12748.0  United Kingdom  \n",
       "401604 2011-12-09 12:50:00        18.00     12680.0          France  \n",
       "\n",
       "[34424 rows x 8 columns]"
      ]
     },
     "execution_count": 14,
     "metadata": {},
     "output_type": "execute_result"
    }
   ],
   "source": [
    "# stok kodu 5 haneli olmalı:\n",
    "veri[(veri[\"Stok Kodu\"].str.len()!=5) | (~veri[\"Stok Kodu\"].str.isdigit())]"
   ]
  },
  {
   "cell_type": "code",
   "execution_count": 15,
   "id": "27972884",
   "metadata": {},
   "outputs": [
    {
     "data": {
      "text/plain": [
       "0.08765242543916604"
      ]
     },
     "execution_count": 15,
     "metadata": {},
     "output_type": "execute_result"
    }
   ],
   "source": [
    "len(veri[(veri[\"Stok Kodu\"].str.len()!=5) | (~veri[\"Stok Kodu\"].str.isdigit())])/len(veri)"
   ]
  },
  {
   "cell_type": "code",
   "execution_count": 16,
   "id": "bf92cbb8",
   "metadata": {},
   "outputs": [
    {
     "data": {
      "text/html": [
       "<div>\n",
       "<style scoped>\n",
       "    .dataframe tbody tr th:only-of-type {\n",
       "        vertical-align: middle;\n",
       "    }\n",
       "\n",
       "    .dataframe tbody tr th {\n",
       "        vertical-align: top;\n",
       "    }\n",
       "\n",
       "    .dataframe thead th {\n",
       "        text-align: right;\n",
       "    }\n",
       "</style>\n",
       "<table border=\"1\" class=\"dataframe\">\n",
       "  <thead>\n",
       "    <tr style=\"text-align: right;\">\n",
       "      <th></th>\n",
       "      <th>Fatura No</th>\n",
       "      <th>Stok Kodu</th>\n",
       "      <th>Ürün Adı</th>\n",
       "      <th>Adet</th>\n",
       "      <th>Fatura Tarihi</th>\n",
       "      <th>Birim Fiyat</th>\n",
       "      <th>Müşteri ID</th>\n",
       "      <th>Ülke</th>\n",
       "    </tr>\n",
       "  </thead>\n",
       "  <tbody>\n",
       "    <tr>\n",
       "      <th>0</th>\n",
       "      <td>536365</td>\n",
       "      <td>85123A</td>\n",
       "      <td>WHITE HANGING HEART T-LIGHT HOLDER</td>\n",
       "      <td>6</td>\n",
       "      <td>2010-12-01 08:26:00</td>\n",
       "      <td>2.55</td>\n",
       "      <td>17850.0</td>\n",
       "      <td>United Kingdom</td>\n",
       "    </tr>\n",
       "    <tr>\n",
       "      <th>1</th>\n",
       "      <td>536365</td>\n",
       "      <td>71053</td>\n",
       "      <td>WHITE METAL LANTERN</td>\n",
       "      <td>6</td>\n",
       "      <td>2010-12-01 08:26:00</td>\n",
       "      <td>3.39</td>\n",
       "      <td>17850.0</td>\n",
       "      <td>United Kingdom</td>\n",
       "    </tr>\n",
       "    <tr>\n",
       "      <th>2</th>\n",
       "      <td>536365</td>\n",
       "      <td>84406B</td>\n",
       "      <td>CREAM CUPID HEARTS COAT HANGER</td>\n",
       "      <td>8</td>\n",
       "      <td>2010-12-01 08:26:00</td>\n",
       "      <td>2.75</td>\n",
       "      <td>17850.0</td>\n",
       "      <td>United Kingdom</td>\n",
       "    </tr>\n",
       "    <tr>\n",
       "      <th>3</th>\n",
       "      <td>536365</td>\n",
       "      <td>84029G</td>\n",
       "      <td>KNITTED UNION FLAG HOT WATER BOTTLE</td>\n",
       "      <td>6</td>\n",
       "      <td>2010-12-01 08:26:00</td>\n",
       "      <td>3.39</td>\n",
       "      <td>17850.0</td>\n",
       "      <td>United Kingdom</td>\n",
       "    </tr>\n",
       "    <tr>\n",
       "      <th>4</th>\n",
       "      <td>536365</td>\n",
       "      <td>84029E</td>\n",
       "      <td>RED WOOLLY HOTTIE WHITE HEART.</td>\n",
       "      <td>6</td>\n",
       "      <td>2010-12-01 08:26:00</td>\n",
       "      <td>3.39</td>\n",
       "      <td>17850.0</td>\n",
       "      <td>United Kingdom</td>\n",
       "    </tr>\n",
       "  </tbody>\n",
       "</table>\n",
       "</div>"
      ],
      "text/plain": [
       "  Fatura No Stok Kodu                             Ürün Adı  Adet  \\\n",
       "0    536365    85123A   WHITE HANGING HEART T-LIGHT HOLDER     6   \n",
       "1    536365     71053                  WHITE METAL LANTERN     6   \n",
       "2    536365    84406B       CREAM CUPID HEARTS COAT HANGER     8   \n",
       "3    536365    84029G  KNITTED UNION FLAG HOT WATER BOTTLE     6   \n",
       "4    536365    84029E       RED WOOLLY HOTTIE WHITE HEART.     6   \n",
       "\n",
       "        Fatura Tarihi  Birim Fiyat  Müşteri ID            Ülke  \n",
       "0 2010-12-01 08:26:00         2.55     17850.0  United Kingdom  \n",
       "1 2010-12-01 08:26:00         3.39     17850.0  United Kingdom  \n",
       "2 2010-12-01 08:26:00         2.75     17850.0  United Kingdom  \n",
       "3 2010-12-01 08:26:00         3.39     17850.0  United Kingdom  \n",
       "4 2010-12-01 08:26:00         3.39     17850.0  United Kingdom  "
      ]
     },
     "execution_count": 16,
     "metadata": {},
     "output_type": "execute_result"
    }
   ],
   "source": [
    "# Birim fiyatı 0 olanları çıkarma:\n",
    "veri=veri[(veri[\"Birim Fiyat\"]!=0) & (veri[\"Birim Fiyat\"]>0)]\n",
    "veri.head()"
   ]
  },
  {
   "cell_type": "code",
   "execution_count": 17,
   "id": "93da8a17",
   "metadata": {},
   "outputs": [
    {
     "data": {
      "text/plain": [
       "0.08764098163196186"
      ]
     },
     "execution_count": 17,
     "metadata": {},
     "output_type": "execute_result"
    }
   ],
   "source": [
    "len(veri[(veri[\"Stok Kodu\"].str.len()!=5) | (~veri[\"Stok Kodu\"].str.isdigit())])/len(veri)"
   ]
  },
  {
   "cell_type": "code",
   "execution_count": 18,
   "id": "6d0275f3",
   "metadata": {},
   "outputs": [
    {
     "data": {
      "text/html": [
       "<div>\n",
       "<style scoped>\n",
       "    .dataframe tbody tr th:only-of-type {\n",
       "        vertical-align: middle;\n",
       "    }\n",
       "\n",
       "    .dataframe tbody tr th {\n",
       "        vertical-align: top;\n",
       "    }\n",
       "\n",
       "    .dataframe thead th {\n",
       "        text-align: right;\n",
       "    }\n",
       "</style>\n",
       "<table border=\"1\" class=\"dataframe\">\n",
       "  <thead>\n",
       "    <tr style=\"text-align: right;\">\n",
       "      <th></th>\n",
       "      <th>Fatura No</th>\n",
       "      <th>Stok Kodu</th>\n",
       "      <th>Ürün Adı</th>\n",
       "      <th>Adet</th>\n",
       "      <th>Fatura Tarihi</th>\n",
       "      <th>Birim Fiyat</th>\n",
       "      <th>Müşteri ID</th>\n",
       "      <th>Ülke</th>\n",
       "    </tr>\n",
       "  </thead>\n",
       "  <tbody>\n",
       "  </tbody>\n",
       "</table>\n",
       "</div>"
      ],
      "text/plain": [
       "Empty DataFrame\n",
       "Columns: [Fatura No, Stok Kodu, Ürün Adı, Adet, Fatura Tarihi, Birim Fiyat, Müşteri ID, Ülke]\n",
       "Index: []"
      ]
     },
     "execution_count": 18,
     "metadata": {},
     "output_type": "execute_result"
    }
   ],
   "source": [
    "# Ürün Adı String olmalı:\n",
    "veri[veri[\"Ürün Adı\"].str.isdigit()]"
   ]
  },
  {
   "cell_type": "code",
   "execution_count": 19,
   "id": "8f5b1407",
   "metadata": {},
   "outputs": [
    {
     "data": {
      "text/html": [
       "<div>\n",
       "<style scoped>\n",
       "    .dataframe tbody tr th:only-of-type {\n",
       "        vertical-align: middle;\n",
       "    }\n",
       "\n",
       "    .dataframe tbody tr th {\n",
       "        vertical-align: top;\n",
       "    }\n",
       "\n",
       "    .dataframe thead th {\n",
       "        text-align: right;\n",
       "    }\n",
       "</style>\n",
       "<table border=\"1\" class=\"dataframe\">\n",
       "  <thead>\n",
       "    <tr style=\"text-align: right;\">\n",
       "      <th></th>\n",
       "      <th>Fatura No</th>\n",
       "      <th>Stok Kodu</th>\n",
       "      <th>Ürün Adı</th>\n",
       "      <th>Adet</th>\n",
       "      <th>Fatura Tarihi</th>\n",
       "      <th>Birim Fiyat</th>\n",
       "      <th>Müşteri ID</th>\n",
       "      <th>Ülke</th>\n",
       "    </tr>\n",
       "  </thead>\n",
       "  <tbody>\n",
       "  </tbody>\n",
       "</table>\n",
       "</div>"
      ],
      "text/plain": [
       "Empty DataFrame\n",
       "Columns: [Fatura No, Stok Kodu, Ürün Adı, Adet, Fatura Tarihi, Birim Fiyat, Müşteri ID, Ülke]\n",
       "Index: []"
      ]
     },
     "execution_count": 19,
     "metadata": {},
     "output_type": "execute_result"
    }
   ],
   "source": [
    "# Adetler 0 dan küçük olmamalı:\n",
    "veri[veri[\"Adet\"]<=0]"
   ]
  },
  {
   "cell_type": "code",
   "execution_count": 20,
   "id": "8d2ecb81",
   "metadata": {},
   "outputs": [
    {
     "name": "stdout",
     "output_type": "stream",
     "text": [
      "['United Kingdom' 'France' 'Australia' 'Netherlands' 'Germany' 'Norway'\n",
      " 'EIRE' 'Switzerland' 'Spain' 'Poland' 'Portugal' 'Italy' 'Belgium'\n",
      " 'Lithuania' 'Japan' 'Iceland' 'Channel Islands' 'Denmark' 'Cyprus'\n",
      " 'Sweden' 'Finland' 'Austria' 'Greece' 'Singapore' 'Lebanon'\n",
      " 'United Arab Emirates' 'Israel' 'Saudi Arabia' 'Czech Republic' 'Canada'\n",
      " 'Unspecified' 'Brazil' 'USA' 'European Community' 'Bahrain' 'Malta' 'RSA']\n"
     ]
    }
   ],
   "source": [
    "# Yanlış Girilen Ülke Var mı?\n",
    "print(veri[\"Ülke\"].unique())"
   ]
  },
  {
   "cell_type": "code",
   "execution_count": 21,
   "id": "8d724285",
   "metadata": {},
   "outputs": [
    {
     "name": "stdout",
     "output_type": "stream",
     "text": [
      "['WHITE HANGING HEART T-LIGHT HOLDER' 'WHITE METAL LANTERN'\n",
      " 'CREAM CUPID HEARTS COAT HANGER' ... 'PINK CRYSTAL SKULL PHONE CHARM'\n",
      " 'CREAM HANGING HEART T-LIGHT HOLDER' 'PAPER CRAFT , LITTLE BIRDIE']\n"
     ]
    }
   ],
   "source": [
    "print(veri[\"Ürün Adı\"].unique())"
   ]
  },
  {
   "cell_type": "code",
   "execution_count": 22,
   "id": "51b9c6c4",
   "metadata": {},
   "outputs": [
    {
     "data": {
      "text/html": [
       "<div>\n",
       "<style scoped>\n",
       "    .dataframe tbody tr th:only-of-type {\n",
       "        vertical-align: middle;\n",
       "    }\n",
       "\n",
       "    .dataframe tbody tr th {\n",
       "        vertical-align: top;\n",
       "    }\n",
       "\n",
       "    .dataframe thead th {\n",
       "        text-align: right;\n",
       "    }\n",
       "</style>\n",
       "<table border=\"1\" class=\"dataframe\">\n",
       "  <thead>\n",
       "    <tr style=\"text-align: right;\">\n",
       "      <th></th>\n",
       "      <th>Fatura No</th>\n",
       "      <th>Stok Kodu</th>\n",
       "      <th>Ürün Adı</th>\n",
       "      <th>Adet</th>\n",
       "      <th>Fatura Tarihi</th>\n",
       "      <th>Birim Fiyat</th>\n",
       "      <th>Müşteri ID</th>\n",
       "      <th>Ülke</th>\n",
       "      <th>Toplam Tutar</th>\n",
       "    </tr>\n",
       "  </thead>\n",
       "  <tbody>\n",
       "    <tr>\n",
       "      <th>0</th>\n",
       "      <td>536365</td>\n",
       "      <td>85123A</td>\n",
       "      <td>WHITE HANGING HEART T-LIGHT HOLDER</td>\n",
       "      <td>6</td>\n",
       "      <td>2010-12-01 08:26:00</td>\n",
       "      <td>2.55</td>\n",
       "      <td>17850.0</td>\n",
       "      <td>United Kingdom</td>\n",
       "      <td>15.30</td>\n",
       "    </tr>\n",
       "    <tr>\n",
       "      <th>1</th>\n",
       "      <td>536365</td>\n",
       "      <td>71053</td>\n",
       "      <td>WHITE METAL LANTERN</td>\n",
       "      <td>6</td>\n",
       "      <td>2010-12-01 08:26:00</td>\n",
       "      <td>3.39</td>\n",
       "      <td>17850.0</td>\n",
       "      <td>United Kingdom</td>\n",
       "      <td>20.34</td>\n",
       "    </tr>\n",
       "    <tr>\n",
       "      <th>2</th>\n",
       "      <td>536365</td>\n",
       "      <td>84406B</td>\n",
       "      <td>CREAM CUPID HEARTS COAT HANGER</td>\n",
       "      <td>8</td>\n",
       "      <td>2010-12-01 08:26:00</td>\n",
       "      <td>2.75</td>\n",
       "      <td>17850.0</td>\n",
       "      <td>United Kingdom</td>\n",
       "      <td>22.00</td>\n",
       "    </tr>\n",
       "    <tr>\n",
       "      <th>3</th>\n",
       "      <td>536365</td>\n",
       "      <td>84029G</td>\n",
       "      <td>KNITTED UNION FLAG HOT WATER BOTTLE</td>\n",
       "      <td>6</td>\n",
       "      <td>2010-12-01 08:26:00</td>\n",
       "      <td>3.39</td>\n",
       "      <td>17850.0</td>\n",
       "      <td>United Kingdom</td>\n",
       "      <td>20.34</td>\n",
       "    </tr>\n",
       "    <tr>\n",
       "      <th>4</th>\n",
       "      <td>536365</td>\n",
       "      <td>84029E</td>\n",
       "      <td>RED WOOLLY HOTTIE WHITE HEART.</td>\n",
       "      <td>6</td>\n",
       "      <td>2010-12-01 08:26:00</td>\n",
       "      <td>3.39</td>\n",
       "      <td>17850.0</td>\n",
       "      <td>United Kingdom</td>\n",
       "      <td>20.34</td>\n",
       "    </tr>\n",
       "  </tbody>\n",
       "</table>\n",
       "</div>"
      ],
      "text/plain": [
       "  Fatura No Stok Kodu                             Ürün Adı  Adet  \\\n",
       "0    536365    85123A   WHITE HANGING HEART T-LIGHT HOLDER     6   \n",
       "1    536365     71053                  WHITE METAL LANTERN     6   \n",
       "2    536365    84406B       CREAM CUPID HEARTS COAT HANGER     8   \n",
       "3    536365    84029G  KNITTED UNION FLAG HOT WATER BOTTLE     6   \n",
       "4    536365    84029E       RED WOOLLY HOTTIE WHITE HEART.     6   \n",
       "\n",
       "        Fatura Tarihi  Birim Fiyat  Müşteri ID            Ülke  Toplam Tutar  \n",
       "0 2010-12-01 08:26:00         2.55     17850.0  United Kingdom         15.30  \n",
       "1 2010-12-01 08:26:00         3.39     17850.0  United Kingdom         20.34  \n",
       "2 2010-12-01 08:26:00         2.75     17850.0  United Kingdom         22.00  \n",
       "3 2010-12-01 08:26:00         3.39     17850.0  United Kingdom         20.34  \n",
       "4 2010-12-01 08:26:00         3.39     17850.0  United Kingdom         20.34  "
      ]
     },
     "execution_count": 22,
     "metadata": {},
     "output_type": "execute_result"
    }
   ],
   "source": [
    "# Toplam Tutar Ekleyelim:\n",
    "veri[\"Toplam Tutar\"]=veri[\"Birim Fiyat\"]*veri[\"Adet\"]\n",
    "veri.head()"
   ]
  },
  {
   "cell_type": "code",
   "execution_count": 23,
   "id": "65d7a584",
   "metadata": {},
   "outputs": [
    {
     "name": "stdout",
     "output_type": "stream",
     "text": [
      "<class 'pandas.core.frame.DataFrame'>\n",
      "Int64Index: 392693 entries, 0 to 401604\n",
      "Data columns (total 9 columns):\n",
      " #   Column         Non-Null Count   Dtype         \n",
      "---  ------         --------------   -----         \n",
      " 0   Fatura No      392693 non-null  object        \n",
      " 1   Stok Kodu      392693 non-null  object        \n",
      " 2   Ürün Adı       392693 non-null  object        \n",
      " 3   Adet           392693 non-null  int64         \n",
      " 4   Fatura Tarihi  392693 non-null  datetime64[ns]\n",
      " 5   Birim Fiyat    392693 non-null  float64       \n",
      " 6   Müşteri ID     392693 non-null  float64       \n",
      " 7   Ülke           392693 non-null  object        \n",
      " 8   Toplam Tutar   392693 non-null  float64       \n",
      "dtypes: datetime64[ns](1), float64(3), int64(1), object(4)\n",
      "memory usage: 30.0+ MB\n"
     ]
    }
   ],
   "source": [
    "veri.info()"
   ]
  },
  {
   "cell_type": "code",
   "execution_count": 24,
   "id": "7fee1690",
   "metadata": {},
   "outputs": [],
   "source": [
    "veri[\"Müşteri ID\"]=veri[\"Müşteri ID\"].astype(\"int64\")"
   ]
  },
  {
   "cell_type": "code",
   "execution_count": 25,
   "id": "3d41019b",
   "metadata": {},
   "outputs": [
    {
     "name": "stdout",
     "output_type": "stream",
     "text": [
      "<class 'pandas.core.frame.DataFrame'>\n",
      "Int64Index: 392693 entries, 0 to 401604\n",
      "Data columns (total 9 columns):\n",
      " #   Column         Non-Null Count   Dtype         \n",
      "---  ------         --------------   -----         \n",
      " 0   Fatura No      392693 non-null  object        \n",
      " 1   Stok Kodu      392693 non-null  object        \n",
      " 2   Ürün Adı       392693 non-null  object        \n",
      " 3   Adet           392693 non-null  int64         \n",
      " 4   Fatura Tarihi  392693 non-null  datetime64[ns]\n",
      " 5   Birim Fiyat    392693 non-null  float64       \n",
      " 6   Müşteri ID     392693 non-null  int64         \n",
      " 7   Ülke           392693 non-null  object        \n",
      " 8   Toplam Tutar   392693 non-null  float64       \n",
      "dtypes: datetime64[ns](1), float64(2), int64(2), object(4)\n",
      "memory usage: 30.0+ MB\n"
     ]
    }
   ],
   "source": [
    "veri.info() # veri tipleri düzenlendi."
   ]
  },
  {
   "cell_type": "code",
   "execution_count": 26,
   "id": "03a5aabf",
   "metadata": {},
   "outputs": [],
   "source": [
    "veri=veri.reset_index()\n",
    "veri=veri.drop(\"index\",axis=1)"
   ]
  },
  {
   "cell_type": "code",
   "execution_count": 27,
   "id": "aafd9b7f",
   "metadata": {},
   "outputs": [
    {
     "data": {
      "text/html": [
       "<div>\n",
       "<style scoped>\n",
       "    .dataframe tbody tr th:only-of-type {\n",
       "        vertical-align: middle;\n",
       "    }\n",
       "\n",
       "    .dataframe tbody tr th {\n",
       "        vertical-align: top;\n",
       "    }\n",
       "\n",
       "    .dataframe thead th {\n",
       "        text-align: right;\n",
       "    }\n",
       "</style>\n",
       "<table border=\"1\" class=\"dataframe\">\n",
       "  <thead>\n",
       "    <tr style=\"text-align: right;\">\n",
       "      <th></th>\n",
       "      <th>Fatura No</th>\n",
       "      <th>Stok Kodu</th>\n",
       "      <th>Ürün Adı</th>\n",
       "      <th>Adet</th>\n",
       "      <th>Fatura Tarihi</th>\n",
       "      <th>Birim Fiyat</th>\n",
       "      <th>Müşteri ID</th>\n",
       "      <th>Ülke</th>\n",
       "      <th>Toplam Tutar</th>\n",
       "    </tr>\n",
       "  </thead>\n",
       "  <tbody>\n",
       "    <tr>\n",
       "      <th>0</th>\n",
       "      <td>536365</td>\n",
       "      <td>85123A</td>\n",
       "      <td>WHITE HANGING HEART T-LIGHT HOLDER</td>\n",
       "      <td>6</td>\n",
       "      <td>2010-12-01 08:26:00</td>\n",
       "      <td>2.55</td>\n",
       "      <td>17850</td>\n",
       "      <td>United Kingdom</td>\n",
       "      <td>15.30</td>\n",
       "    </tr>\n",
       "    <tr>\n",
       "      <th>1</th>\n",
       "      <td>536365</td>\n",
       "      <td>71053</td>\n",
       "      <td>WHITE METAL LANTERN</td>\n",
       "      <td>6</td>\n",
       "      <td>2010-12-01 08:26:00</td>\n",
       "      <td>3.39</td>\n",
       "      <td>17850</td>\n",
       "      <td>United Kingdom</td>\n",
       "      <td>20.34</td>\n",
       "    </tr>\n",
       "    <tr>\n",
       "      <th>2</th>\n",
       "      <td>536365</td>\n",
       "      <td>84406B</td>\n",
       "      <td>CREAM CUPID HEARTS COAT HANGER</td>\n",
       "      <td>8</td>\n",
       "      <td>2010-12-01 08:26:00</td>\n",
       "      <td>2.75</td>\n",
       "      <td>17850</td>\n",
       "      <td>United Kingdom</td>\n",
       "      <td>22.00</td>\n",
       "    </tr>\n",
       "    <tr>\n",
       "      <th>3</th>\n",
       "      <td>536365</td>\n",
       "      <td>84029G</td>\n",
       "      <td>KNITTED UNION FLAG HOT WATER BOTTLE</td>\n",
       "      <td>6</td>\n",
       "      <td>2010-12-01 08:26:00</td>\n",
       "      <td>3.39</td>\n",
       "      <td>17850</td>\n",
       "      <td>United Kingdom</td>\n",
       "      <td>20.34</td>\n",
       "    </tr>\n",
       "    <tr>\n",
       "      <th>4</th>\n",
       "      <td>536365</td>\n",
       "      <td>84029E</td>\n",
       "      <td>RED WOOLLY HOTTIE WHITE HEART.</td>\n",
       "      <td>6</td>\n",
       "      <td>2010-12-01 08:26:00</td>\n",
       "      <td>3.39</td>\n",
       "      <td>17850</td>\n",
       "      <td>United Kingdom</td>\n",
       "      <td>20.34</td>\n",
       "    </tr>\n",
       "  </tbody>\n",
       "</table>\n",
       "</div>"
      ],
      "text/plain": [
       "  Fatura No Stok Kodu                             Ürün Adı  Adet  \\\n",
       "0    536365    85123A   WHITE HANGING HEART T-LIGHT HOLDER     6   \n",
       "1    536365     71053                  WHITE METAL LANTERN     6   \n",
       "2    536365    84406B       CREAM CUPID HEARTS COAT HANGER     8   \n",
       "3    536365    84029G  KNITTED UNION FLAG HOT WATER BOTTLE     6   \n",
       "4    536365    84029E       RED WOOLLY HOTTIE WHITE HEART.     6   \n",
       "\n",
       "        Fatura Tarihi  Birim Fiyat  Müşteri ID            Ülke  Toplam Tutar  \n",
       "0 2010-12-01 08:26:00         2.55       17850  United Kingdom         15.30  \n",
       "1 2010-12-01 08:26:00         3.39       17850  United Kingdom         20.34  \n",
       "2 2010-12-01 08:26:00         2.75       17850  United Kingdom         22.00  \n",
       "3 2010-12-01 08:26:00         3.39       17850  United Kingdom         20.34  \n",
       "4 2010-12-01 08:26:00         3.39       17850  United Kingdom         20.34  "
      ]
     },
     "execution_count": 27,
     "metadata": {},
     "output_type": "execute_result"
    }
   ],
   "source": [
    "veri.head()"
   ]
  },
  {
   "cell_type": "code",
   "execution_count": 28,
   "id": "7833a053",
   "metadata": {},
   "outputs": [
    {
     "data": {
      "text/plain": [
       "541910"
      ]
     },
     "execution_count": 28,
     "metadata": {},
     "output_type": "execute_result"
    }
   ],
   "source": [
    "len(data)"
   ]
  },
  {
   "cell_type": "code",
   "execution_count": 29,
   "id": "876a488e",
   "metadata": {},
   "outputs": [
    {
     "data": {
      "text/plain": [
       "392693"
      ]
     },
     "execution_count": 29,
     "metadata": {},
     "output_type": "execute_result"
    }
   ],
   "source": [
    "len(veri)"
   ]
  },
  {
   "cell_type": "markdown",
   "id": "38318b36",
   "metadata": {},
   "source": [
    "Kategori stütunu yaratmaya çalışalım. Ürün adı değişkeni incelendiğinde kategorilere ait isimler genelde sonda yer almaktadır."
   ]
  },
  {
   "cell_type": "code",
   "execution_count": 30,
   "id": "a5d4b22c",
   "metadata": {},
   "outputs": [
    {
     "name": "stderr",
     "output_type": "stream",
     "text": [
      "[nltk_data] Downloading package stopwords to\n",
      "[nltk_data]     C:\\Users\\okand\\AppData\\Roaming\\nltk_data...\n",
      "[nltk_data]   Package stopwords is already up-to-date!\n",
      "[nltk_data] Downloading package wordnet to\n",
      "[nltk_data]     C:\\Users\\okand\\AppData\\Roaming\\nltk_data...\n",
      "[nltk_data]   Package wordnet is already up-to-date!\n"
     ]
    }
   ],
   "source": [
    "import re\n",
    "import nltk\n",
    "nltk.download(\"stopwords\")\n",
    "from nltk.corpus import stopwords\n",
    "nltk.download(\"wordnet\")\n",
    "lema=nltk.WordNetLemmatizer()\n",
    "from sklearn.feature_extraction.text import CountVectorizer"
   ]
  },
  {
   "cell_type": "markdown",
   "id": "e5b4b690",
   "metadata": {},
   "source": [
    "Kategorileri ortaya çıkarabilmek için ilk olarak ürün adı değişkenine doğal dil işleme yapılır:"
   ]
  },
  {
   "cell_type": "code",
   "execution_count": 31,
   "id": "1a1c7fbf",
   "metadata": {},
   "outputs": [],
   "source": [
    "temiz=[]\n",
    "\n",
    "for i in range(len(veri)):\n",
    "    duzenle=re.sub('[^a-zA-Z]',\" \",veri[\"Ürün Adı\"][i])\n",
    "    duzenle=duzenle.lower()\n",
    "    duzenle=duzenle.split()\n",
    "    duzenle=[lema.lemmatize(kelime) for kelime in duzenle if not kelime in set(stopwords.words(\"english\"))]\n",
    "    duzenle=\" \".join(duzenle)\n",
    "    temiz.append(duzenle)"
   ]
  },
  {
   "cell_type": "code",
   "execution_count": 32,
   "id": "832916a3",
   "metadata": {},
   "outputs": [
    {
     "data": {
      "text/html": [
       "<div>\n",
       "<style scoped>\n",
       "    .dataframe tbody tr th:only-of-type {\n",
       "        vertical-align: middle;\n",
       "    }\n",
       "\n",
       "    .dataframe tbody tr th {\n",
       "        vertical-align: top;\n",
       "    }\n",
       "\n",
       "    .dataframe thead th {\n",
       "        text-align: right;\n",
       "    }\n",
       "</style>\n",
       "<table border=\"1\" class=\"dataframe\">\n",
       "  <thead>\n",
       "    <tr style=\"text-align: right;\">\n",
       "      <th></th>\n",
       "      <th>Fatura No</th>\n",
       "      <th>Stok Kodu</th>\n",
       "      <th>Ürün Adı</th>\n",
       "      <th>Adet</th>\n",
       "      <th>Fatura Tarihi</th>\n",
       "      <th>Birim Fiyat</th>\n",
       "      <th>Müşteri ID</th>\n",
       "      <th>Ülke</th>\n",
       "      <th>Toplam Tutar</th>\n",
       "      <th>Ürün Adı2</th>\n",
       "    </tr>\n",
       "  </thead>\n",
       "  <tbody>\n",
       "    <tr>\n",
       "      <th>0</th>\n",
       "      <td>536365</td>\n",
       "      <td>85123A</td>\n",
       "      <td>WHITE HANGING HEART T-LIGHT HOLDER</td>\n",
       "      <td>6</td>\n",
       "      <td>2010-12-01 08:26:00</td>\n",
       "      <td>2.55</td>\n",
       "      <td>17850</td>\n",
       "      <td>United Kingdom</td>\n",
       "      <td>15.30</td>\n",
       "      <td>white hanging heart light holder</td>\n",
       "    </tr>\n",
       "    <tr>\n",
       "      <th>1</th>\n",
       "      <td>536365</td>\n",
       "      <td>71053</td>\n",
       "      <td>WHITE METAL LANTERN</td>\n",
       "      <td>6</td>\n",
       "      <td>2010-12-01 08:26:00</td>\n",
       "      <td>3.39</td>\n",
       "      <td>17850</td>\n",
       "      <td>United Kingdom</td>\n",
       "      <td>20.34</td>\n",
       "      <td>white metal lantern</td>\n",
       "    </tr>\n",
       "    <tr>\n",
       "      <th>2</th>\n",
       "      <td>536365</td>\n",
       "      <td>84406B</td>\n",
       "      <td>CREAM CUPID HEARTS COAT HANGER</td>\n",
       "      <td>8</td>\n",
       "      <td>2010-12-01 08:26:00</td>\n",
       "      <td>2.75</td>\n",
       "      <td>17850</td>\n",
       "      <td>United Kingdom</td>\n",
       "      <td>22.00</td>\n",
       "      <td>cream cupid heart coat hanger</td>\n",
       "    </tr>\n",
       "    <tr>\n",
       "      <th>3</th>\n",
       "      <td>536365</td>\n",
       "      <td>84029G</td>\n",
       "      <td>KNITTED UNION FLAG HOT WATER BOTTLE</td>\n",
       "      <td>6</td>\n",
       "      <td>2010-12-01 08:26:00</td>\n",
       "      <td>3.39</td>\n",
       "      <td>17850</td>\n",
       "      <td>United Kingdom</td>\n",
       "      <td>20.34</td>\n",
       "      <td>knitted union flag hot water bottle</td>\n",
       "    </tr>\n",
       "    <tr>\n",
       "      <th>4</th>\n",
       "      <td>536365</td>\n",
       "      <td>84029E</td>\n",
       "      <td>RED WOOLLY HOTTIE WHITE HEART.</td>\n",
       "      <td>6</td>\n",
       "      <td>2010-12-01 08:26:00</td>\n",
       "      <td>3.39</td>\n",
       "      <td>17850</td>\n",
       "      <td>United Kingdom</td>\n",
       "      <td>20.34</td>\n",
       "      <td>red woolly hottie white heart</td>\n",
       "    </tr>\n",
       "  </tbody>\n",
       "</table>\n",
       "</div>"
      ],
      "text/plain": [
       "  Fatura No Stok Kodu                             Ürün Adı  Adet  \\\n",
       "0    536365    85123A   WHITE HANGING HEART T-LIGHT HOLDER     6   \n",
       "1    536365     71053                  WHITE METAL LANTERN     6   \n",
       "2    536365    84406B       CREAM CUPID HEARTS COAT HANGER     8   \n",
       "3    536365    84029G  KNITTED UNION FLAG HOT WATER BOTTLE     6   \n",
       "4    536365    84029E       RED WOOLLY HOTTIE WHITE HEART.     6   \n",
       "\n",
       "        Fatura Tarihi  Birim Fiyat  Müşteri ID            Ülke  Toplam Tutar  \\\n",
       "0 2010-12-01 08:26:00         2.55       17850  United Kingdom         15.30   \n",
       "1 2010-12-01 08:26:00         3.39       17850  United Kingdom         20.34   \n",
       "2 2010-12-01 08:26:00         2.75       17850  United Kingdom         22.00   \n",
       "3 2010-12-01 08:26:00         3.39       17850  United Kingdom         20.34   \n",
       "4 2010-12-01 08:26:00         3.39       17850  United Kingdom         20.34   \n",
       "\n",
       "                             Ürün Adı2  \n",
       "0     white hanging heart light holder  \n",
       "1                  white metal lantern  \n",
       "2        cream cupid heart coat hanger  \n",
       "3  knitted union flag hot water bottle  \n",
       "4        red woolly hottie white heart  "
      ]
     },
     "execution_count": 32,
     "metadata": {},
     "output_type": "execute_result"
    }
   ],
   "source": [
    "veri[\"Ürün Adı2\"]=temiz\n",
    "veri.head()"
   ]
  },
  {
   "cell_type": "code",
   "execution_count": 33,
   "id": "33b538a6",
   "metadata": {},
   "outputs": [
    {
     "data": {
      "text/plain": [
       "['holder',\n",
       " 'lantern',\n",
       " 'hanger',\n",
       " 'bottle',\n",
       " 'heart',\n",
       " 'box',\n",
       " 'holder',\n",
       " 'jack',\n",
       " 'dot',\n",
       " 'jar',\n",
       " 'fashion',\n",
       " 'fashion',\n",
       " 'fashion',\n",
       " 'ornament',\n",
       " 'bedroom',\n",
       " 'kitchen',\n",
       " 'doll',\n",
       " 'cosy',\n",
       " 'teaspoon',\n",
       " 'block']"
      ]
     },
     "execution_count": 33,
     "metadata": {},
     "output_type": "execute_result"
    }
   ],
   "source": [
    "kategori=[]\n",
    "\n",
    "for i in range(0,len(veri)):\n",
    "    duzenle=veri[\"Ürün Adı2\"][i].split()\n",
    "    duzenle=duzenle[-1]\n",
    "    kategori.append(duzenle)\n",
    "\n",
    "kategori[0:20]"
   ]
  },
  {
   "cell_type": "code",
   "execution_count": 34,
   "id": "8d91c1fd",
   "metadata": {},
   "outputs": [
    {
     "data": {
      "text/html": [
       "<div>\n",
       "<style scoped>\n",
       "    .dataframe tbody tr th:only-of-type {\n",
       "        vertical-align: middle;\n",
       "    }\n",
       "\n",
       "    .dataframe tbody tr th {\n",
       "        vertical-align: top;\n",
       "    }\n",
       "\n",
       "    .dataframe thead th {\n",
       "        text-align: right;\n",
       "    }\n",
       "</style>\n",
       "<table border=\"1\" class=\"dataframe\">\n",
       "  <thead>\n",
       "    <tr style=\"text-align: right;\">\n",
       "      <th></th>\n",
       "      <th>Fatura No</th>\n",
       "      <th>Stok Kodu</th>\n",
       "      <th>Ürün Adı</th>\n",
       "      <th>Adet</th>\n",
       "      <th>Fatura Tarihi</th>\n",
       "      <th>Birim Fiyat</th>\n",
       "      <th>Müşteri ID</th>\n",
       "      <th>Ülke</th>\n",
       "      <th>Toplam Tutar</th>\n",
       "      <th>Ürün Adı2</th>\n",
       "      <th>Kategori</th>\n",
       "    </tr>\n",
       "  </thead>\n",
       "  <tbody>\n",
       "    <tr>\n",
       "      <th>0</th>\n",
       "      <td>536365</td>\n",
       "      <td>85123A</td>\n",
       "      <td>WHITE HANGING HEART T-LIGHT HOLDER</td>\n",
       "      <td>6</td>\n",
       "      <td>2010-12-01 08:26:00</td>\n",
       "      <td>2.55</td>\n",
       "      <td>17850</td>\n",
       "      <td>United Kingdom</td>\n",
       "      <td>15.30</td>\n",
       "      <td>white hanging heart light holder</td>\n",
       "      <td>holder</td>\n",
       "    </tr>\n",
       "    <tr>\n",
       "      <th>1</th>\n",
       "      <td>536365</td>\n",
       "      <td>71053</td>\n",
       "      <td>WHITE METAL LANTERN</td>\n",
       "      <td>6</td>\n",
       "      <td>2010-12-01 08:26:00</td>\n",
       "      <td>3.39</td>\n",
       "      <td>17850</td>\n",
       "      <td>United Kingdom</td>\n",
       "      <td>20.34</td>\n",
       "      <td>white metal lantern</td>\n",
       "      <td>lantern</td>\n",
       "    </tr>\n",
       "    <tr>\n",
       "      <th>2</th>\n",
       "      <td>536365</td>\n",
       "      <td>84406B</td>\n",
       "      <td>CREAM CUPID HEARTS COAT HANGER</td>\n",
       "      <td>8</td>\n",
       "      <td>2010-12-01 08:26:00</td>\n",
       "      <td>2.75</td>\n",
       "      <td>17850</td>\n",
       "      <td>United Kingdom</td>\n",
       "      <td>22.00</td>\n",
       "      <td>cream cupid heart coat hanger</td>\n",
       "      <td>hanger</td>\n",
       "    </tr>\n",
       "    <tr>\n",
       "      <th>3</th>\n",
       "      <td>536365</td>\n",
       "      <td>84029G</td>\n",
       "      <td>KNITTED UNION FLAG HOT WATER BOTTLE</td>\n",
       "      <td>6</td>\n",
       "      <td>2010-12-01 08:26:00</td>\n",
       "      <td>3.39</td>\n",
       "      <td>17850</td>\n",
       "      <td>United Kingdom</td>\n",
       "      <td>20.34</td>\n",
       "      <td>knitted union flag hot water bottle</td>\n",
       "      <td>bottle</td>\n",
       "    </tr>\n",
       "    <tr>\n",
       "      <th>4</th>\n",
       "      <td>536365</td>\n",
       "      <td>84029E</td>\n",
       "      <td>RED WOOLLY HOTTIE WHITE HEART.</td>\n",
       "      <td>6</td>\n",
       "      <td>2010-12-01 08:26:00</td>\n",
       "      <td>3.39</td>\n",
       "      <td>17850</td>\n",
       "      <td>United Kingdom</td>\n",
       "      <td>20.34</td>\n",
       "      <td>red woolly hottie white heart</td>\n",
       "      <td>heart</td>\n",
       "    </tr>\n",
       "  </tbody>\n",
       "</table>\n",
       "</div>"
      ],
      "text/plain": [
       "  Fatura No Stok Kodu                             Ürün Adı  Adet  \\\n",
       "0    536365    85123A   WHITE HANGING HEART T-LIGHT HOLDER     6   \n",
       "1    536365     71053                  WHITE METAL LANTERN     6   \n",
       "2    536365    84406B       CREAM CUPID HEARTS COAT HANGER     8   \n",
       "3    536365    84029G  KNITTED UNION FLAG HOT WATER BOTTLE     6   \n",
       "4    536365    84029E       RED WOOLLY HOTTIE WHITE HEART.     6   \n",
       "\n",
       "        Fatura Tarihi  Birim Fiyat  Müşteri ID            Ülke  Toplam Tutar  \\\n",
       "0 2010-12-01 08:26:00         2.55       17850  United Kingdom         15.30   \n",
       "1 2010-12-01 08:26:00         3.39       17850  United Kingdom         20.34   \n",
       "2 2010-12-01 08:26:00         2.75       17850  United Kingdom         22.00   \n",
       "3 2010-12-01 08:26:00         3.39       17850  United Kingdom         20.34   \n",
       "4 2010-12-01 08:26:00         3.39       17850  United Kingdom         20.34   \n",
       "\n",
       "                             Ürün Adı2 Kategori  \n",
       "0     white hanging heart light holder   holder  \n",
       "1                  white metal lantern  lantern  \n",
       "2        cream cupid heart coat hanger   hanger  \n",
       "3  knitted union flag hot water bottle   bottle  \n",
       "4        red woolly hottie white heart    heart  "
      ]
     },
     "execution_count": 34,
     "metadata": {},
     "output_type": "execute_result"
    }
   ],
   "source": [
    "veri[\"Kategori\"]=kategori\n",
    "veri.head()"
   ]
  },
  {
   "cell_type": "code",
   "execution_count": 35,
   "id": "aadf6385",
   "metadata": {},
   "outputs": [
    {
     "data": {
      "text/plain": [
       "Fatura No        0\n",
       "Stok Kodu        0\n",
       "Ürün Adı         0\n",
       "Adet             0\n",
       "Fatura Tarihi    0\n",
       "Birim Fiyat      0\n",
       "Müşteri ID       0\n",
       "Ülke             0\n",
       "Toplam Tutar     0\n",
       "Ürün Adı2        0\n",
       "Kategori         0\n",
       "dtype: int64"
      ]
     },
     "execution_count": 35,
     "metadata": {},
     "output_type": "execute_result"
    }
   ],
   "source": [
    "veri.isnull().sum()"
   ]
  },
  {
   "cell_type": "code",
   "execution_count": 36,
   "id": "85f5aa65",
   "metadata": {},
   "outputs": [
    {
     "name": "stderr",
     "output_type": "stream",
     "text": [
      "C:\\Users\\okand\\AppData\\Local\\Temp\\ipykernel_15488\\2506180762.py:2: FutureWarning: Series.dt.weekofyear and Series.dt.week have been deprecated. Please use Series.dt.isocalendar().week instead.\n",
      "  veri[\"Hafta\"]=veri[\"Fatura Tarihi\"].dt.week\n"
     ]
    },
    {
     "data": {
      "text/html": [
       "<div>\n",
       "<style scoped>\n",
       "    .dataframe tbody tr th:only-of-type {\n",
       "        vertical-align: middle;\n",
       "    }\n",
       "\n",
       "    .dataframe tbody tr th {\n",
       "        vertical-align: top;\n",
       "    }\n",
       "\n",
       "    .dataframe thead th {\n",
       "        text-align: right;\n",
       "    }\n",
       "</style>\n",
       "<table border=\"1\" class=\"dataframe\">\n",
       "  <thead>\n",
       "    <tr style=\"text-align: right;\">\n",
       "      <th></th>\n",
       "      <th>Fatura Tarihi</th>\n",
       "      <th>Gün</th>\n",
       "      <th>Hafta</th>\n",
       "      <th>Ay</th>\n",
       "      <th>Yıl</th>\n",
       "      <th>Mevsim</th>\n",
       "    </tr>\n",
       "  </thead>\n",
       "  <tbody>\n",
       "    <tr>\n",
       "      <th>0</th>\n",
       "      <td>2010-12-01 08:26:00</td>\n",
       "      <td>1</td>\n",
       "      <td>48</td>\n",
       "      <td>12</td>\n",
       "      <td>2010</td>\n",
       "      <td>Kış</td>\n",
       "    </tr>\n",
       "    <tr>\n",
       "      <th>1</th>\n",
       "      <td>2010-12-01 08:26:00</td>\n",
       "      <td>1</td>\n",
       "      <td>48</td>\n",
       "      <td>12</td>\n",
       "      <td>2010</td>\n",
       "      <td>Kış</td>\n",
       "    </tr>\n",
       "    <tr>\n",
       "      <th>2</th>\n",
       "      <td>2010-12-01 08:26:00</td>\n",
       "      <td>1</td>\n",
       "      <td>48</td>\n",
       "      <td>12</td>\n",
       "      <td>2010</td>\n",
       "      <td>Kış</td>\n",
       "    </tr>\n",
       "    <tr>\n",
       "      <th>3</th>\n",
       "      <td>2010-12-01 08:26:00</td>\n",
       "      <td>1</td>\n",
       "      <td>48</td>\n",
       "      <td>12</td>\n",
       "      <td>2010</td>\n",
       "      <td>Kış</td>\n",
       "    </tr>\n",
       "    <tr>\n",
       "      <th>4</th>\n",
       "      <td>2010-12-01 08:26:00</td>\n",
       "      <td>1</td>\n",
       "      <td>48</td>\n",
       "      <td>12</td>\n",
       "      <td>2010</td>\n",
       "      <td>Kış</td>\n",
       "    </tr>\n",
       "    <tr>\n",
       "      <th>...</th>\n",
       "      <td>...</td>\n",
       "      <td>...</td>\n",
       "      <td>...</td>\n",
       "      <td>...</td>\n",
       "      <td>...</td>\n",
       "      <td>...</td>\n",
       "    </tr>\n",
       "    <tr>\n",
       "      <th>392688</th>\n",
       "      <td>2011-12-09 12:50:00</td>\n",
       "      <td>9</td>\n",
       "      <td>49</td>\n",
       "      <td>12</td>\n",
       "      <td>2011</td>\n",
       "      <td>Kış</td>\n",
       "    </tr>\n",
       "    <tr>\n",
       "      <th>392689</th>\n",
       "      <td>2011-12-09 12:50:00</td>\n",
       "      <td>9</td>\n",
       "      <td>49</td>\n",
       "      <td>12</td>\n",
       "      <td>2011</td>\n",
       "      <td>Kış</td>\n",
       "    </tr>\n",
       "    <tr>\n",
       "      <th>392690</th>\n",
       "      <td>2011-12-09 12:50:00</td>\n",
       "      <td>9</td>\n",
       "      <td>49</td>\n",
       "      <td>12</td>\n",
       "      <td>2011</td>\n",
       "      <td>Kış</td>\n",
       "    </tr>\n",
       "    <tr>\n",
       "      <th>392691</th>\n",
       "      <td>2011-12-09 12:50:00</td>\n",
       "      <td>9</td>\n",
       "      <td>49</td>\n",
       "      <td>12</td>\n",
       "      <td>2011</td>\n",
       "      <td>Kış</td>\n",
       "    </tr>\n",
       "    <tr>\n",
       "      <th>392692</th>\n",
       "      <td>2011-12-09 12:50:00</td>\n",
       "      <td>9</td>\n",
       "      <td>49</td>\n",
       "      <td>12</td>\n",
       "      <td>2011</td>\n",
       "      <td>Kış</td>\n",
       "    </tr>\n",
       "  </tbody>\n",
       "</table>\n",
       "<p>392693 rows × 6 columns</p>\n",
       "</div>"
      ],
      "text/plain": [
       "             Fatura Tarihi  Gün  Hafta  Ay   Yıl Mevsim\n",
       "0      2010-12-01 08:26:00    1     48  12  2010    Kış\n",
       "1      2010-12-01 08:26:00    1     48  12  2010    Kış\n",
       "2      2010-12-01 08:26:00    1     48  12  2010    Kış\n",
       "3      2010-12-01 08:26:00    1     48  12  2010    Kış\n",
       "4      2010-12-01 08:26:00    1     48  12  2010    Kış\n",
       "...                    ...  ...    ...  ..   ...    ...\n",
       "392688 2011-12-09 12:50:00    9     49  12  2011    Kış\n",
       "392689 2011-12-09 12:50:00    9     49  12  2011    Kış\n",
       "392690 2011-12-09 12:50:00    9     49  12  2011    Kış\n",
       "392691 2011-12-09 12:50:00    9     49  12  2011    Kış\n",
       "392692 2011-12-09 12:50:00    9     49  12  2011    Kış\n",
       "\n",
       "[392693 rows x 6 columns]"
      ]
     },
     "execution_count": 36,
     "metadata": {},
     "output_type": "execute_result"
    }
   ],
   "source": [
    "veri[\"Gün\"]=veri[\"Fatura Tarihi\"].dt.day\n",
    "veri[\"Hafta\"]=veri[\"Fatura Tarihi\"].dt.week\n",
    "veri[\"Ay\"]=veri[\"Fatura Tarihi\"].dt.month\n",
    "veri[\"Yıl\"]=veri[\"Fatura Tarihi\"].dt.year\n",
    "# Mevsimler:\n",
    "veri[\"Mevsim\"]=np.where(veri[\"Ay\"].isin([3,4,5]),\"İlkbahar\",\n",
    "                       np.where(veri[\"Ay\"].isin([6,7,8]),\"Yaz\",\n",
    "                               np.where(veri[\"Ay\"].isin([9,10,11]),\"Sonbahar\",\n",
    "                                       np.where(veri[\"Ay\"].isin([12,1,2]),\"Kış\",\"None\"))))\n",
    "\n",
    "veri[[\"Fatura Tarihi\",\"Gün\",\"Hafta\",\"Ay\",\"Yıl\",\"Mevsim\"]]"
   ]
  },
  {
   "cell_type": "code",
   "execution_count": 37,
   "id": "3acedf1c",
   "metadata": {},
   "outputs": [
    {
     "name": "stdout",
     "output_type": "stream",
     "text": [
      "<class 'pandas.core.frame.DataFrame'>\n",
      "RangeIndex: 392693 entries, 0 to 392692\n",
      "Data columns (total 16 columns):\n",
      " #   Column         Non-Null Count   Dtype         \n",
      "---  ------         --------------   -----         \n",
      " 0   Fatura No      392693 non-null  object        \n",
      " 1   Stok Kodu      392693 non-null  object        \n",
      " 2   Ürün Adı       392693 non-null  object        \n",
      " 3   Adet           392693 non-null  int64         \n",
      " 4   Fatura Tarihi  392693 non-null  datetime64[ns]\n",
      " 5   Birim Fiyat    392693 non-null  float64       \n",
      " 6   Müşteri ID     392693 non-null  int64         \n",
      " 7   Ülke           392693 non-null  object        \n",
      " 8   Toplam Tutar   392693 non-null  float64       \n",
      " 9   Ürün Adı2      392693 non-null  object        \n",
      " 10  Kategori       392693 non-null  object        \n",
      " 11  Gün            392693 non-null  int64         \n",
      " 12  Hafta          392693 non-null  int64         \n",
      " 13  Ay             392693 non-null  int64         \n",
      " 14  Yıl            392693 non-null  int64         \n",
      " 15  Mevsim         392693 non-null  object        \n",
      "dtypes: datetime64[ns](1), float64(2), int64(6), object(7)\n",
      "memory usage: 47.9+ MB\n"
     ]
    }
   ],
   "source": [
    "veri.info()"
   ]
  },
  {
   "cell_type": "code",
   "execution_count": 38,
   "id": "758ec4ff",
   "metadata": {},
   "outputs": [],
   "source": [
    "veri[[\"Gün\",\"Hafta\",\"Ay\",\"Yıl\"]]=veri[[\"Gün\",\"Hafta\",\"Ay\",\"Yıl\"]].astype(object)"
   ]
  },
  {
   "cell_type": "code",
   "execution_count": 39,
   "id": "17097328",
   "metadata": {},
   "outputs": [
    {
     "name": "stdout",
     "output_type": "stream",
     "text": [
      "<class 'pandas.core.frame.DataFrame'>\n",
      "RangeIndex: 392693 entries, 0 to 392692\n",
      "Data columns (total 16 columns):\n",
      " #   Column         Non-Null Count   Dtype         \n",
      "---  ------         --------------   -----         \n",
      " 0   Fatura No      392693 non-null  object        \n",
      " 1   Stok Kodu      392693 non-null  object        \n",
      " 2   Ürün Adı       392693 non-null  object        \n",
      " 3   Adet           392693 non-null  int64         \n",
      " 4   Fatura Tarihi  392693 non-null  datetime64[ns]\n",
      " 5   Birim Fiyat    392693 non-null  float64       \n",
      " 6   Müşteri ID     392693 non-null  int64         \n",
      " 7   Ülke           392693 non-null  object        \n",
      " 8   Toplam Tutar   392693 non-null  float64       \n",
      " 9   Ürün Adı2      392693 non-null  object        \n",
      " 10  Kategori       392693 non-null  object        \n",
      " 11  Gün            392693 non-null  object        \n",
      " 12  Hafta          392693 non-null  object        \n",
      " 13  Ay             392693 non-null  object        \n",
      " 14  Yıl            392693 non-null  object        \n",
      " 15  Mevsim         392693 non-null  object        \n",
      "dtypes: datetime64[ns](1), float64(2), int64(2), object(11)\n",
      "memory usage: 47.9+ MB\n"
     ]
    }
   ],
   "source": [
    "veri.info()"
   ]
  },
  {
   "cell_type": "code",
   "execution_count": 40,
   "id": "afa713fd",
   "metadata": {},
   "outputs": [
    {
     "data": {
      "text/plain": [
       "array(['holder', 'lantern', 'hanger', 'bottle', 'heart', 'box', 'jack',\n",
       "       'dot', 'jar', 'fashion', 'ornament', 'bedroom', 'kitchen', 'doll',\n",
       "       'cosy', 'teaspoon', 'block', 'word', 'england', 'pink', 'red',\n",
       "       'green', 'sheet', 'tape', 'globe', 'game', 'towel', 'woodland',\n",
       "       'london', 'design', 'light', 'puzzle', 'parade', 'spaceboy',\n",
       "       'vintage', 'postage', 'christmas', 'assorted', 'mug', 'finish',\n",
       "       'white', 'large', 'sympathy', 'polkadot', 'toy', 'bag', 'set',\n",
       "       'plate', 'retrospot', 'cutlery', 'case', 'flora', 'doorsign',\n",
       "       'suki', 'paisley', 'printed', 'pc', 'sign', 'knob', 'edwardian',\n",
       "       'line', 'chicken', 'saucer', 'hook', 'rabbit', 'stick', 'bank',\n",
       "       'jug', 'beaker', 'black', 'natural', 'flower', 'small', 'rack',\n",
       "       'home', 'ladder', 'calculator', 'pot', 'thermometer', 'cream',\n",
       "       'lid', 'hanging', 'chalkboard', 'ribbon', 'garland', 'nightlight',\n",
       "       'letter', 'decoration', 'magnet', 'candle', 'doorstop',\n",
       "       'toadstool', 'reindeer', 'cover', 'duck', 'umbrella', 'clock',\n",
       "       'spoon', 'napkin', 'cup', 'hat', 'kit', 'cube', 'feltcraft',\n",
       "       'skittle', 'rope', 'domino', 'sideboard', 'zinc', 'lamp', 'card',\n",
       "       'pack', 'ivory', 'orange', 'quilt', 'tissue', 'string', 'cake',\n",
       "       'poorly', 'cornice', 'tin', 'placemats', 'coaster', 'ball',\n",
       "       'operated', 'mirror', 'served', 'topiary', 'leave', 'snowman',\n",
       "       'santa', 'balloon', 'sponge', 'chest', 'match', 'notebook',\n",
       "       'colour', 'cloth', 'babushka', 'football', 'spaceman', 'cutter',\n",
       "       'blue', 'skull', 'bowl', 'dinosaur', 'tattoo', 'pannetone', 'pen',\n",
       "       'face', 'cowboy', 'tokyo', 'doily', 'eraser', 'hldr', 'top',\n",
       "       'marble', 'crystal', 'flag', 'owl', 'tag', 'charm', 'bangle',\n",
       "       'rose', 'bell', 'med', 'sticker', 'bobble', 'girl', 'dress',\n",
       "       'strawberry', 'fruit', 'molly', 'fairy', 'parcel', 'angel',\n",
       "       'friend', 'rosie', 'emily', 'shopper', 'butterfly', 'bauble',\n",
       "       'village', 'tree', 'sack', 'star', 'purple', 'animal', 'fair',\n",
       "       'spade', 'bucket', 'caddy', 'tea', 'tidy', 'glove', 'incense',\n",
       "       'vase', 'apron', 'tube', 'flock', 'scissor', 'tealight', 'metal',\n",
       "       'medium', 'bracelet', 'dia', 'ring', 'ruby', 'montana', 'present',\n",
       "       'mitten', 'scandinavian', 'wood', 'scented', 'provence', 'frame',\n",
       "       'size', 'tier', 'bunting', 'lace', 'foxy', 'gent', 'champion',\n",
       "       'envelope', 'warmer', 'cm', 'font', 'pear', 'gazebo', 'engraved',\n",
       "       'crate', 'bed', 'leaf', 'mint', 'rosemary', 'basil', 'chive',\n",
       "       'parsley', 'thyme', 'wreath', 'easter', 'birthday', 'journal',\n",
       "       'squeezer', 'spot', 'double', 'roll', 'paper', 'tray', 'level',\n",
       "       'platter', 'fun', 'weight', 'parasol', 'spring', 'chateau',\n",
       "       'scale', 'garden', 'patch', 'apple', 'placemat', 'beautiful',\n",
       "       'confectionery', 'biscuit', 'stopper', 'dish', 'wrap', 'print',\n",
       "       'plant', 'strongman', 'crayon', 'pan', 'straw', 'frieze', 'stand',\n",
       "       'silver', 'candlepot', 'antique', 'jardin', 'bird',\n",
       "       'chocolatecandle', 'cabinet', 'day', 'torch', 'helicopter',\n",
       "       'carriage', 'moon', 'hammock', 'dec', 'pony', 'teddy', 'hostess',\n",
       "       'lovebird', 'spiral', 'airmail', 'cat', 'collage', 'memory',\n",
       "       'monkey', 'cheese', 'scandispot', 'key', 'instrument', 'crown',\n",
       "       'manual', 'base', 'mum', 'chocolate', 'fuschia', 'purse',\n",
       "       'bathroom', 'fauna', 'headphone', 'sketchbook', 'drawer',\n",
       "       'lampshade', 'creature', 'book', 'brocante', 'maria', 'house',\n",
       "       'handbag', 'craft', 'purdey', 'pencil', 'love', 'bunny',\n",
       "       'elephant', 'watering', 'loveheart', 'marker', 'portrait',\n",
       "       'measure', 'clay', 'disc', 'sugar', 'teapot', 'wish', 'thank',\n",
       "       'shaped', 'brown', 'boy', 'ruler', 'kid', 'glass', 'round',\n",
       "       'rectangle', 'candlestick', 'tassel', 'necklace', 'livingroom',\n",
       "       'posy', 'clip', 'crawlies', 'memoboard', 'etched', 'hairclip',\n",
       "       'door', 'chopstick', 'puppet', 'candlestand', 'empire', 'fan',\n",
       "       'charge', 'gold', 'reel', 'frog', 'shed', 'campagne', 'strawbery',\n",
       "       'washbag', 'peg', 'toastrack', 'padded', 'rustic', 'nancy',\n",
       "       'container', 'throw', 'rubber', 'salad', 'button', 'ludo',\n",
       "       'secateurs', 'lei', 'mushroom', 'liner', 'flannel', 'witch',\n",
       "       'polkadots', 'child', 'sound', 'life', 'setting', 'pendant',\n",
       "       'swallow', 'photo', 'bead', 'skirt', 'shirt', 'choice', 'wool',\n",
       "       'salt', 'sand', 'album', 'candleholder', 'badge', 'bin', 'bouquet',\n",
       "       'fork', 'trowel', 'pearl', 'pennant', 'label', 'ream', 'flask',\n",
       "       'bear', 'chair', 'basket', 'windsock', 'delight', 'cushion',\n",
       "       'feather', 'sombrero', 'chain', 'poncho', 'stone', 'tiara',\n",
       "       'carnival', 'birdhouse', 'daisy', 'chick', 'mobile', 'bib',\n",
       "       'check', 'ashtray', 'cap', 'burner', 'image', 'knif', 'pair',\n",
       "       'cactus', 'flowerpot', 'clear', 'planet', 'baroque', 'travelogue',\n",
       "       'puppy', 'sunrise', 'folkart', 'sunglass', 'doorbell', 'bronze',\n",
       "       'windmill', 'bea', 'art', 'butterfl', 'pouffe', 'picture',\n",
       "       'favourite', 'basin', 'camembert', 'cupcake', 'diamante', 'stool',\n",
       "       'photoframe', 'twine', 'stripe', 'str', 'strap', 'shelf', 'office',\n",
       "       'stocking', 'monster', 'shutter', 'seafood', 'organiser', 'choc',\n",
       "       'octagon', 'bamboo', 'edge', 'one', 'gnome', 'curtain', 'standing',\n",
       "       'rosette', 'plaque', 'asst', 'hen', 'sucker', 'cage', 'egg',\n",
       "       'slide', 'earring', 'keepsake', 'piece', 'sharpener', 'room',\n",
       "       'marmalade', 'amethyst', 'beach', 'droplet', 'choker', 'flowe',\n",
       "       'cannister', 'table', 'rect', 'scarf', 'chime', 'screwdriver',\n",
       "       'spaceball', 'jeweled', 'col', 'blackboard', 'chandelier', 'swat',\n",
       "       'sheep', 'fruitbowl', 'cone', 'comb', 'cotton', 'ladybird',\n",
       "       'calendar', 'diamon', 'raspberr', 'amber', 'band', 'doughnut',\n",
       "       'dolphin', 'carpet', 'pattern', 'pudding', 'elvis', 'carousel',\n",
       "       'hare', 'gordon', 'pool', 'sister', 'dog', 'beetle', 'vegetable',\n",
       "       'post', 'spotty', 'lady', 'back', 'planter', 'george', 'hamper',\n",
       "       'nest', 'poppy', 'lens', 'support', 'shade', 'unit', 'oval',\n",
       "       'peach', 'radio', 'head', 'goldfish', 'revolutionary', 'glamorous',\n",
       "       'tie', 'windchime', 'necklac', 'filigree', 'pole', 'brush',\n",
       "       'mould', 'meadow', 'pantry', 'transport', 'calm', 'petal',\n",
       "       'ticket', 'pin', 'blossom', 'inflatable', 'asstd', 'vacant',\n",
       "       'nicole', 'rest', 'corer', 'lavender', 'turquoise', 'paul', 'jam',\n",
       "       'opener', 'ol', 'splodge', 'punch', 'bonbon', 'amelie', 'cafe',\n",
       "       'king', 'turquois', 'gloss', 'keyring', 'citronella', 'cupboard',\n",
       "       'hibiscus', 'backpack', 'alphabet', 'screen', 'goblet', 'tongs',\n",
       "       'come', 'strainer', 'slice', 'display', 'l', 'supply', 'chic',\n",
       "       'secret', 'dispenser', 'montan', 'braclet', 'painted', 'beak',\n",
       "       'brooch', 'winkie', 'snowflake', 'doiley', 'bill', 'hold',\n",
       "       'wicker', 'cluster', 'spike', 'perfume', 'elixir', 'tonic',\n",
       "       'disposable', 'handle', 'four', 'list', 'hexagon', 'notepad',\n",
       "       'madeline', 'microwave', 'fob', 'cracker', 'hairslide', 'suck',\n",
       "       'tablecloth', 'poster', 'park', 'shop', 'forest', 'frill', 'bomb',\n",
       "       'bubble', 'bonheur', 'pant', 'maker', 'spatula', 'whisk', 'board',\n",
       "       'carry', 'rebecca', 'sally', 'rachel', 'gymkhana', 'susie',\n",
       "       'rucksack', 'peridot', 'jet', 'sophie', 'claire', 'whit',\n",
       "       'dovecote', 'person', 'modern', 'play', 'saftey', 'show',\n",
       "       'licence', 'nature', 'station', 'safety', 'feeder', 'ahoy',\n",
       "       'ingrid', 'carrier', 'helga', 'heidi', 'bridge', 'street', 'hill',\n",
       "       'town', 'chalk', 'miror', 'cross', 'blueberry', 'fondant',\n",
       "       'cherry', 'party', 'panettone', 'gingham', 'style', 'pretty',\n",
       "       'birdie'], dtype=object)"
      ]
     },
     "execution_count": 40,
     "metadata": {},
     "output_type": "execute_result"
    }
   ],
   "source": [
    "veri[\"Kategori\"].unique()"
   ]
  },
  {
   "cell_type": "markdown",
   "id": "cdef5edc",
   "metadata": {},
   "source": [
    "# Keşifci Veri Analizi"
   ]
  },
  {
   "cell_type": "code",
   "execution_count": 43,
   "id": "e21e0a31",
   "metadata": {},
   "outputs": [
    {
     "data": {
      "text/html": [
       "<div>\n",
       "<style scoped>\n",
       "    .dataframe tbody tr th:only-of-type {\n",
       "        vertical-align: middle;\n",
       "    }\n",
       "\n",
       "    .dataframe tbody tr th {\n",
       "        vertical-align: top;\n",
       "    }\n",
       "\n",
       "    .dataframe thead th {\n",
       "        text-align: right;\n",
       "    }\n",
       "</style>\n",
       "<table border=\"1\" class=\"dataframe\">\n",
       "  <thead>\n",
       "    <tr style=\"text-align: right;\">\n",
       "      <th></th>\n",
       "      <th>Fatura No</th>\n",
       "      <th>Stok Kodu</th>\n",
       "      <th>Ürün Adı</th>\n",
       "      <th>Adet</th>\n",
       "      <th>Fatura Tarihi</th>\n",
       "      <th>Birim Fiyat</th>\n",
       "      <th>Müşteri ID</th>\n",
       "      <th>Ülke</th>\n",
       "      <th>Toplam Tutar</th>\n",
       "      <th>Ürün Adı2</th>\n",
       "      <th>Kategori</th>\n",
       "      <th>Gün</th>\n",
       "      <th>Hafta</th>\n",
       "      <th>Ay</th>\n",
       "      <th>Yıl</th>\n",
       "      <th>Mevsim</th>\n",
       "    </tr>\n",
       "  </thead>\n",
       "  <tbody>\n",
       "    <tr>\n",
       "      <th>0</th>\n",
       "      <td>536365</td>\n",
       "      <td>85123A</td>\n",
       "      <td>WHITE HANGING HEART T-LIGHT HOLDER</td>\n",
       "      <td>6</td>\n",
       "      <td>2010-12-01 08:26:00</td>\n",
       "      <td>2.55</td>\n",
       "      <td>17850</td>\n",
       "      <td>United Kingdom</td>\n",
       "      <td>15.30</td>\n",
       "      <td>white hanging heart light holder</td>\n",
       "      <td>holder</td>\n",
       "      <td>1</td>\n",
       "      <td>48</td>\n",
       "      <td>12</td>\n",
       "      <td>2010</td>\n",
       "      <td>Kış</td>\n",
       "    </tr>\n",
       "    <tr>\n",
       "      <th>1</th>\n",
       "      <td>536365</td>\n",
       "      <td>71053</td>\n",
       "      <td>WHITE METAL LANTERN</td>\n",
       "      <td>6</td>\n",
       "      <td>2010-12-01 08:26:00</td>\n",
       "      <td>3.39</td>\n",
       "      <td>17850</td>\n",
       "      <td>United Kingdom</td>\n",
       "      <td>20.34</td>\n",
       "      <td>white metal lantern</td>\n",
       "      <td>lantern</td>\n",
       "      <td>1</td>\n",
       "      <td>48</td>\n",
       "      <td>12</td>\n",
       "      <td>2010</td>\n",
       "      <td>Kış</td>\n",
       "    </tr>\n",
       "    <tr>\n",
       "      <th>2</th>\n",
       "      <td>536365</td>\n",
       "      <td>84406B</td>\n",
       "      <td>CREAM CUPID HEARTS COAT HANGER</td>\n",
       "      <td>8</td>\n",
       "      <td>2010-12-01 08:26:00</td>\n",
       "      <td>2.75</td>\n",
       "      <td>17850</td>\n",
       "      <td>United Kingdom</td>\n",
       "      <td>22.00</td>\n",
       "      <td>cream cupid heart coat hanger</td>\n",
       "      <td>hanger</td>\n",
       "      <td>1</td>\n",
       "      <td>48</td>\n",
       "      <td>12</td>\n",
       "      <td>2010</td>\n",
       "      <td>Kış</td>\n",
       "    </tr>\n",
       "    <tr>\n",
       "      <th>3</th>\n",
       "      <td>536365</td>\n",
       "      <td>84029G</td>\n",
       "      <td>KNITTED UNION FLAG HOT WATER BOTTLE</td>\n",
       "      <td>6</td>\n",
       "      <td>2010-12-01 08:26:00</td>\n",
       "      <td>3.39</td>\n",
       "      <td>17850</td>\n",
       "      <td>United Kingdom</td>\n",
       "      <td>20.34</td>\n",
       "      <td>knitted union flag hot water bottle</td>\n",
       "      <td>bottle</td>\n",
       "      <td>1</td>\n",
       "      <td>48</td>\n",
       "      <td>12</td>\n",
       "      <td>2010</td>\n",
       "      <td>Kış</td>\n",
       "    </tr>\n",
       "    <tr>\n",
       "      <th>4</th>\n",
       "      <td>536365</td>\n",
       "      <td>84029E</td>\n",
       "      <td>RED WOOLLY HOTTIE WHITE HEART.</td>\n",
       "      <td>6</td>\n",
       "      <td>2010-12-01 08:26:00</td>\n",
       "      <td>3.39</td>\n",
       "      <td>17850</td>\n",
       "      <td>United Kingdom</td>\n",
       "      <td>20.34</td>\n",
       "      <td>red woolly hottie white heart</td>\n",
       "      <td>heart</td>\n",
       "      <td>1</td>\n",
       "      <td>48</td>\n",
       "      <td>12</td>\n",
       "      <td>2010</td>\n",
       "      <td>Kış</td>\n",
       "    </tr>\n",
       "  </tbody>\n",
       "</table>\n",
       "</div>"
      ],
      "text/plain": [
       "  Fatura No Stok Kodu                             Ürün Adı  Adet  \\\n",
       "0    536365    85123A   WHITE HANGING HEART T-LIGHT HOLDER     6   \n",
       "1    536365     71053                  WHITE METAL LANTERN     6   \n",
       "2    536365    84406B       CREAM CUPID HEARTS COAT HANGER     8   \n",
       "3    536365    84029G  KNITTED UNION FLAG HOT WATER BOTTLE     6   \n",
       "4    536365    84029E       RED WOOLLY HOTTIE WHITE HEART.     6   \n",
       "\n",
       "        Fatura Tarihi  Birim Fiyat  Müşteri ID            Ülke  Toplam Tutar  \\\n",
       "0 2010-12-01 08:26:00         2.55       17850  United Kingdom         15.30   \n",
       "1 2010-12-01 08:26:00         3.39       17850  United Kingdom         20.34   \n",
       "2 2010-12-01 08:26:00         2.75       17850  United Kingdom         22.00   \n",
       "3 2010-12-01 08:26:00         3.39       17850  United Kingdom         20.34   \n",
       "4 2010-12-01 08:26:00         3.39       17850  United Kingdom         20.34   \n",
       "\n",
       "                             Ürün Adı2 Kategori Gün Hafta  Ay   Yıl Mevsim  \n",
       "0     white hanging heart light holder   holder   1    48  12  2010    Kış  \n",
       "1                  white metal lantern  lantern   1    48  12  2010    Kış  \n",
       "2        cream cupid heart coat hanger   hanger   1    48  12  2010    Kış  \n",
       "3  knitted union flag hot water bottle   bottle   1    48  12  2010    Kış  \n",
       "4        red woolly hottie white heart    heart   1    48  12  2010    Kış  "
      ]
     },
     "execution_count": 43,
     "metadata": {},
     "output_type": "execute_result"
    }
   ],
   "source": [
    "veri.head()"
   ]
  },
  {
   "cell_type": "code",
   "execution_count": 41,
   "id": "078a934b",
   "metadata": {},
   "outputs": [
    {
     "data": {
      "image/png": "[encoded data removed]",
      "text/plain": [
       "<Figure size 1000x500 with 1 Axes>"
      ]
     },
     "metadata": {},
     "output_type": "display_data"
    }
   ],
   "source": [
    "# En çok alışveriş yapan 20 müşteri:\n",
    "veri.groupby(\"Müşteri ID\")[\"Adet\"].sum().sort_values(ascending=False).head(20).plot(kind=\"bar\",color=\"b\",figsize=(10,5))\n",
    "plt.xlabel('Müşteri ID')\n",
    "plt.ylabel('Adet')\n",
    "plt.title('En Çok Ürün Satın Alan 20 Müşteri', fontweight='bold')\n",
    "plt.show()"
   ]
  },
  {
   "cell_type": "code",
   "execution_count": 42,
   "id": "58ca2f03",
   "metadata": {},
   "outputs": [
    {
     "data": {
      "image/png": "[encoded data removed]",
      "text/plain": [
       "<Figure size 1000x500 with 1 Axes>"
      ]
     },
     "metadata": {},
     "output_type": "display_data"
    }
   ],
   "source": [
    "# En çok alışveriş yapan 20 müşteri:\n",
    "veri.groupby(\"Müşteri ID\")[\"Toplam Tutar\"].sum().sort_values(ascending=False).head(20).plot(kind=\"bar\",color=\"b\",figsize=(10,5))\n",
    "plt.xlabel('Müşteri ID')\n",
    "plt.ylabel('Tutar')\n",
    "plt.title('En Çok Ciro Katkısı Sunan 20 Müşteri', fontweight='bold')\n",
    "plt.show()"
   ]
  },
  {
   "cell_type": "code",
   "execution_count": 56,
   "id": "2a3b3d6b",
   "metadata": {},
   "outputs": [
    {
     "data": {
      "image/png": "[encoded data removed]",
      "text/plain": [
       "<Figure size 1000x500 with 1 Axes>"
      ]
     },
     "metadata": {},
     "output_type": "display_data"
    }
   ],
   "source": [
    "veri.groupby(\"Kategori\")[\"Adet\"].sum().sort_values(ascending=False).head(20).plot(kind=\"bar\",color=\"b\",figsize=(10,5))\n",
    "plt.xlabel('Kategori')\n",
    "plt.ylabel('Adet')\n",
    "plt.title('En Çok satılan 20 Kategorili Ürün', fontweight='bold')\n",
    "plt.show()"
   ]
  },
  {
   "cell_type": "code",
   "execution_count": 45,
   "id": "f403e24c",
   "metadata": {},
   "outputs": [
    {
     "data": {
      "text/plain": [
       "Yıl\n",
       "2010    22.221376\n",
       "2011    22.660172\n",
       "Name: Toplam Tutar, dtype: float64"
      ]
     },
     "execution_count": 45,
     "metadata": {},
     "output_type": "execute_result"
    }
   ],
   "source": [
    "veri.groupby(\"Yıl\")[\"Toplam Tutar\"].mean()"
   ]
  },
  {
   "cell_type": "code",
   "execution_count": 46,
   "id": "457ea1b1",
   "metadata": {},
   "outputs": [
    {
     "data": {
      "text/plain": [
       "Yıl\n",
       "2010     570422.730\n",
       "2011    8316804.164\n",
       "Name: Toplam Tutar, dtype: float64"
      ]
     },
     "execution_count": 46,
     "metadata": {},
     "output_type": "execute_result"
    }
   ],
   "source": [
    "veri.groupby(\"Yıl\")[\"Toplam Tutar\"].sum()"
   ]
  },
  {
   "cell_type": "code",
   "execution_count": 47,
   "id": "ac5b4f99",
   "metadata": {},
   "outputs": [
    {
     "data": {
      "text/plain": [
       "Yıl\n",
       "2010     311048\n",
       "2011    4840955\n",
       "Name: Adet, dtype: int64"
      ]
     },
     "execution_count": 47,
     "metadata": {},
     "output_type": "execute_result"
    }
   ],
   "source": [
    "veri.groupby(\"Yıl\")[\"Adet\"].sum()"
   ]
  },
  {
   "cell_type": "code",
   "execution_count": 54,
   "id": "d7690653",
   "metadata": {},
   "outputs": [
    {
     "data": {
      "text/plain": [
       "Mevsim    Kategori\n",
       "Kış       ahoy           14\n",
       "          airmail       145\n",
       "          album           6\n",
       "          alphabet      822\n",
       "          amber           1\n",
       "                      ...  \n",
       "İlkbahar  wool          169\n",
       "          word         1441\n",
       "          wrap        12837\n",
       "          wreath        118\n",
       "          zinc          730\n",
       "Name: Adet, Length: 2460, dtype: int64"
      ]
     },
     "execution_count": 54,
     "metadata": {},
     "output_type": "execute_result"
    }
   ],
   "source": [
    "veri.groupby([\"Mevsim\",\"Kategori\"])[\"Adet\"].sum()"
   ]
  },
  {
   "cell_type": "code",
   "execution_count": 55,
   "id": "ff2d9cc3",
   "metadata": {},
   "outputs": [
    {
     "data": {
      "image/png": "[encoded data removed]",
      "text/plain": [
       "<Figure size 640x480 with 1 Axes>"
      ]
     },
     "metadata": {},
     "output_type": "display_data"
    }
   ],
   "source": [
    "# Mevsimlere ve yıllara göre satışlar:\n",
    "sns.barplot(x=\"Mevsim\",y=\"Toplam Tutar\",hue=\"Yıl\",data=veri);"
   ]
  },
  {
   "cell_type": "code",
   "execution_count": 59,
   "id": "de1b85bd",
   "metadata": {},
   "outputs": [
    {
     "data": {
      "image/png": "[encoded data removed]",
      "text/plain": [
       "<Figure size 616.625x500 with 1 Axes>"
      ]
     },
     "metadata": {},
     "output_type": "display_data"
    }
   ],
   "source": [
    "(sns\n",
    " .FacetGrid(veri,\n",
    "         hue=\"Mevsim\",\n",
    "         height=5,\n",
    "         xlim=(-100,200))\n",
    " .map(sns.kdeplot,\"Toplam Tutar\",shade=True)\n",
    " .add_legend()\n",
    ");"
   ]
  },
  {
   "cell_type": "code",
   "execution_count": 63,
   "id": "ff50f60f",
   "metadata": {},
   "outputs": [
    {
     "data": {
      "image/png": "[encoded data removed]",
      "text/plain": [
       "<Figure size 1000x500 with 1 Axes>"
      ]
     },
     "metadata": {},
     "output_type": "display_data"
    }
   ],
   "source": [
    "veri.groupby([\"Mevsim\",\"Kategori\"])[\"Adet\"].sum().sort_values(ascending=False).head(20).plot(kind=\"bar\",color=\"r\",figsize=(10,5))\n",
    "plt.xlabel('Mevsim, Kategori')\n",
    "plt.ylabel('Toplam Adet')\n",
    "plt.title('Mevsimlere göre en çok satan 20 ürün', fontweight='bold')\n",
    "plt.show()"
   ]
  },
  {
   "cell_type": "code",
   "execution_count": 68,
   "id": "35cd0639",
   "metadata": {},
   "outputs": [
    {
     "data": {
      "text/html": [
       "<div>\n",
       "<style scoped>\n",
       "    .dataframe tbody tr th:only-of-type {\n",
       "        vertical-align: middle;\n",
       "    }\n",
       "\n",
       "    .dataframe tbody tr th {\n",
       "        vertical-align: top;\n",
       "    }\n",
       "\n",
       "    .dataframe thead th {\n",
       "        text-align: right;\n",
       "    }\n",
       "</style>\n",
       "<table border=\"1\" class=\"dataframe\">\n",
       "  <thead>\n",
       "    <tr style=\"text-align: right;\">\n",
       "      <th></th>\n",
       "      <th>count</th>\n",
       "      <th>mean</th>\n",
       "      <th>std</th>\n",
       "      <th>min</th>\n",
       "      <th>25%</th>\n",
       "      <th>50%</th>\n",
       "      <th>75%</th>\n",
       "      <th>max</th>\n",
       "    </tr>\n",
       "  </thead>\n",
       "  <tbody>\n",
       "    <tr>\n",
       "      <th>Adet</th>\n",
       "      <td>392693.0</td>\n",
       "      <td>13.119671</td>\n",
       "      <td>180.492603</td>\n",
       "      <td>1.000</td>\n",
       "      <td>2.00</td>\n",
       "      <td>6.00</td>\n",
       "      <td>12.00</td>\n",
       "      <td>80995.00</td>\n",
       "    </tr>\n",
       "    <tr>\n",
       "      <th>Birim Fiyat</th>\n",
       "      <td>392693.0</td>\n",
       "      <td>3.125952</td>\n",
       "      <td>22.241820</td>\n",
       "      <td>0.001</td>\n",
       "      <td>1.25</td>\n",
       "      <td>1.95</td>\n",
       "      <td>3.75</td>\n",
       "      <td>8142.75</td>\n",
       "    </tr>\n",
       "    <tr>\n",
       "      <th>Müşteri ID</th>\n",
       "      <td>392693.0</td>\n",
       "      <td>15287.837224</td>\n",
       "      <td>1713.542421</td>\n",
       "      <td>12346.000</td>\n",
       "      <td>13955.00</td>\n",
       "      <td>15150.00</td>\n",
       "      <td>16791.00</td>\n",
       "      <td>18287.00</td>\n",
       "    </tr>\n",
       "    <tr>\n",
       "      <th>Toplam Tutar</th>\n",
       "      <td>392693.0</td>\n",
       "      <td>22.631488</td>\n",
       "      <td>311.098828</td>\n",
       "      <td>0.001</td>\n",
       "      <td>4.95</td>\n",
       "      <td>12.45</td>\n",
       "      <td>19.80</td>\n",
       "      <td>168469.60</td>\n",
       "    </tr>\n",
       "  </tbody>\n",
       "</table>\n",
       "</div>"
      ],
      "text/plain": [
       "                 count          mean          std        min       25%  \\\n",
       "Adet          392693.0     13.119671   180.492603      1.000      2.00   \n",
       "Birim Fiyat   392693.0      3.125952    22.241820      0.001      1.25   \n",
       "Müşteri ID    392693.0  15287.837224  1713.542421  12346.000  13955.00   \n",
       "Toplam Tutar  392693.0     22.631488   311.098828      0.001      4.95   \n",
       "\n",
       "                   50%       75%        max  \n",
       "Adet              6.00     12.00   80995.00  \n",
       "Birim Fiyat       1.95      3.75    8142.75  \n",
       "Müşteri ID    15150.00  16791.00   18287.00  \n",
       "Toplam Tutar     12.45     19.80  168469.60  "
      ]
     },
     "execution_count": 68,
     "metadata": {},
     "output_type": "execute_result"
    }
   ],
   "source": [
    "veri.describe().T"
   ]
  },
  {
   "cell_type": "code",
   "execution_count": 69,
   "id": "9c551cae",
   "metadata": {},
   "outputs": [
    {
     "data": {
      "text/html": [
       "<div>\n",
       "<style scoped>\n",
       "    .dataframe tbody tr th:only-of-type {\n",
       "        vertical-align: middle;\n",
       "    }\n",
       "\n",
       "    .dataframe tbody tr th {\n",
       "        vertical-align: top;\n",
       "    }\n",
       "\n",
       "    .dataframe thead th {\n",
       "        text-align: right;\n",
       "    }\n",
       "</style>\n",
       "<table border=\"1\" class=\"dataframe\">\n",
       "  <thead>\n",
       "    <tr style=\"text-align: right;\">\n",
       "      <th></th>\n",
       "      <th>Fatura No</th>\n",
       "      <th>Stok Kodu</th>\n",
       "      <th>Ürün Adı</th>\n",
       "      <th>Adet</th>\n",
       "      <th>Fatura Tarihi</th>\n",
       "      <th>Birim Fiyat</th>\n",
       "      <th>Müşteri ID</th>\n",
       "      <th>Ülke</th>\n",
       "      <th>Toplam Tutar</th>\n",
       "      <th>Ürün Adı2</th>\n",
       "      <th>Kategori</th>\n",
       "      <th>Gün</th>\n",
       "      <th>Hafta</th>\n",
       "      <th>Ay</th>\n",
       "      <th>Yıl</th>\n",
       "      <th>Mevsim</th>\n",
       "    </tr>\n",
       "  </thead>\n",
       "  <tbody>\n",
       "    <tr>\n",
       "      <th>392226</th>\n",
       "      <td>581483</td>\n",
       "      <td>23843</td>\n",
       "      <td>PAPER CRAFT , LITTLE BIRDIE</td>\n",
       "      <td>80995</td>\n",
       "      <td>2011-12-09 09:15:00</td>\n",
       "      <td>2.08</td>\n",
       "      <td>16446</td>\n",
       "      <td>United Kingdom</td>\n",
       "      <td>168469.6</td>\n",
       "      <td>paper craft little birdie</td>\n",
       "      <td>birdie</td>\n",
       "      <td>9</td>\n",
       "      <td>49</td>\n",
       "      <td>12</td>\n",
       "      <td>2011</td>\n",
       "      <td>Kış</td>\n",
       "    </tr>\n",
       "  </tbody>\n",
       "</table>\n",
       "</div>"
      ],
      "text/plain": [
       "       Fatura No Stok Kodu                     Ürün Adı   Adet  \\\n",
       "392226    581483     23843  PAPER CRAFT , LITTLE BIRDIE  80995   \n",
       "\n",
       "             Fatura Tarihi  Birim Fiyat  Müşteri ID            Ülke  \\\n",
       "392226 2011-12-09 09:15:00         2.08       16446  United Kingdom   \n",
       "\n",
       "        Toplam Tutar                  Ürün Adı2 Kategori Gün Hafta  Ay   Yıl  \\\n",
       "392226      168469.6  paper craft little birdie   birdie   9    49  12  2011   \n",
       "\n",
       "       Mevsim  \n",
       "392226    Kış  "
      ]
     },
     "execution_count": 69,
     "metadata": {},
     "output_type": "execute_result"
    }
   ],
   "source": [
    "veri[veri[\"Adet\"]==veri[\"Adet\"].max()]"
   ]
  },
  {
   "cell_type": "code",
   "execution_count": 70,
   "id": "6b5820a0",
   "metadata": {},
   "outputs": [
    {
     "data": {
      "image/png": "[encoded data removed]",
      "text/plain": [
       "<Figure size 2500x1000 with 3 Axes>"
      ]
     },
     "metadata": {},
     "output_type": "display_data"
    }
   ],
   "source": [
    "fig,ax=plt.subplots(1,3,figsize=(25,10))\n",
    "ax[0].boxplot(veri[\"Adet\"])\n",
    "ax[0].set_title(\"Adet\")\n",
    "ax[1].boxplot(veri[\"Birim Fiyat\"])\n",
    "ax[1].set_title(\"Birim Fiyat\")\n",
    "ax[2].boxplot(veri[\"Toplam Tutar\"])\n",
    "ax[2].set_title(\"Toplam Tutar\")\n",
    "plt.show()"
   ]
  },
  {
   "cell_type": "code",
   "execution_count": 76,
   "id": "2c5bbf79",
   "metadata": {},
   "outputs": [
    {
     "data": {
      "text/plain": [
       "392226    80995\n",
       "36521     74215\n",
       "304654     4800\n",
       "141558     4300\n",
       "60687      3906\n",
       "          ...  \n",
       "290975        1\n",
       "290974        1\n",
       "290973        1\n",
       "290972        1\n",
       "392692        1\n",
       "Name: Adet, Length: 392693, dtype: int64"
      ]
     },
     "execution_count": 76,
     "metadata": {},
     "output_type": "execute_result"
    }
   ],
   "source": [
    "veri[\"Adet\"].sort_values(ascending=False)"
   ]
  },
  {
   "cell_type": "code",
   "execution_count": 77,
   "id": "14e9cbce",
   "metadata": {},
   "outputs": [],
   "source": [
    "veri=veri.drop(index=[392226,36521])"
   ]
  },
  {
   "cell_type": "markdown",
   "id": "c83d299e",
   "metadata": {},
   "source": [
    "# RFM"
   ]
  },
  {
   "cell_type": "code",
   "execution_count": 87,
   "id": "9b45d0bd",
   "metadata": {},
   "outputs": [],
   "source": [
    "import datetime as dt\n",
    "from sklearn.preprocessing import MinMaxScaler\n",
    "from yellowbrick.cluster import KElbowVisualizer\n",
    "from sklearn.cluster import KMeans"
   ]
  },
  {
   "cell_type": "code",
   "execution_count": 80,
   "id": "fdf3eef2",
   "metadata": {},
   "outputs": [],
   "source": [
    "# Toplam aykırı gözlem değerlerini silelim:\n",
    "Q1=veri[\"Toplam Tutar\"].quantile(0.25)\n",
    "Q3=veri[\"Toplam Tutar\"].quantile(0.75)\n",
    "IQR=Q3-Q1\n",
    "\n",
    "altsinir=Q1-1.5*IQR\n",
    "ustsinir=Q3+1.5*IQR\n",
    "\n",
    "veri=veri[~((veri[\"Toplam Tutar\"]>ustsinir) | (veri[\"Toplam Tutar\"]<altsinir))]\n",
    "\n",
    "veri=veri.reset_index(drop=True)"
   ]
  },
  {
   "cell_type": "code",
   "execution_count": 82,
   "id": "6e6163ca",
   "metadata": {},
   "outputs": [
    {
     "name": "stdout",
     "output_type": "stream",
     "text": [
      "4194\n",
      "4194\n"
     ]
    }
   ],
   "source": [
    "## Kaç müşteri var?\n",
    "print(len(veri[\"Müşteri ID\"].unique()))\n",
    "print(veri[\"Müşteri ID\"].nunique())"
   ]
  },
  {
   "cell_type": "code",
   "execution_count": 83,
   "id": "da650928",
   "metadata": {},
   "outputs": [
    {
     "name": "stdout",
     "output_type": "stream",
     "text": [
      "16806\n"
     ]
    }
   ],
   "source": [
    "## Eşsiz Fatura adeti:\n",
    "print(veri[\"Fatura No\"].nunique())"
   ]
  },
  {
   "cell_type": "code",
   "execution_count": 85,
   "id": "51720521",
   "metadata": {},
   "outputs": [
    {
     "data": {
      "text/plain": [
       "Timestamp('2011-12-09 12:50:00')"
      ]
     },
     "execution_count": 85,
     "metadata": {},
     "output_type": "execute_result"
    }
   ],
   "source": [
    "## Statik veriseti ile calıstıgımız icin bugunun tarihi olarak veri setinde ki max tarihi ele alacağız.\n",
    "bugun=veri[\"Fatura Tarihi\"].max()\n",
    "bugun"
   ]
  },
  {
   "cell_type": "code",
   "execution_count": 88,
   "id": "9bd26419",
   "metadata": {},
   "outputs": [],
   "source": [
    "bugun=dt.datetime(2011,12,9,12,50,0)"
   ]
  },
  {
   "cell_type": "code",
   "execution_count": 89,
   "id": "a285dd46",
   "metadata": {},
   "outputs": [],
   "source": [
    "# recency:\n",
    "# Bugunun tarihi ile gruplamış olduğumuz müşteri id'nin fatura tarihindeki max değeri tespit edip bunun içerisindeki günü alalım:\n",
    "r=(bugun-veri.groupby(\"Müşteri ID\").agg({\"Fatura Tarihi\":\"max\"})).apply(lambda x:x.dt.days)"
   ]
  },
  {
   "cell_type": "code",
   "execution_count": 90,
   "id": "a25c5b46",
   "metadata": {},
   "outputs": [],
   "source": [
    "# frequency:\n",
    "# Bir müşterinin tekrarsız olarak kaç tane faturaya sahip olduğunu bulalım:\n",
    "f = veri.groupby([\"Müşteri ID\",\"Fatura No\"]).agg({\"Fatura No\":\"count\"})\n",
    "f=f.groupby(\"Müşteri ID\").agg({\"Fatura No\":\"count\"})"
   ]
  },
  {
   "cell_type": "code",
   "execution_count": 91,
   "id": "26218bdd",
   "metadata": {},
   "outputs": [],
   "source": [
    "# monetary:\n",
    "# her bir müşteri firmaya ne kadar para kazandırdığı:\n",
    "m=veri.groupby(\"Müşteri ID\").agg({\"Toplam Tutar\":\"sum\"})"
   ]
  },
  {
   "cell_type": "code",
   "execution_count": 92,
   "id": "4e01dbd8",
   "metadata": {},
   "outputs": [
    {
     "data": {
      "text/html": [
       "<div>\n",
       "<style scoped>\n",
       "    .dataframe tbody tr th:only-of-type {\n",
       "        vertical-align: middle;\n",
       "    }\n",
       "\n",
       "    .dataframe tbody tr th {\n",
       "        vertical-align: top;\n",
       "    }\n",
       "\n",
       "    .dataframe thead th {\n",
       "        text-align: right;\n",
       "    }\n",
       "</style>\n",
       "<table border=\"1\" class=\"dataframe\">\n",
       "  <thead>\n",
       "    <tr style=\"text-align: right;\">\n",
       "      <th></th>\n",
       "      <th>Müşteri</th>\n",
       "      <th>Recency</th>\n",
       "      <th>Frequency</th>\n",
       "      <th>Monetary</th>\n",
       "    </tr>\n",
       "  </thead>\n",
       "  <tbody>\n",
       "    <tr>\n",
       "      <th>0</th>\n",
       "      <td>12347</td>\n",
       "      <td>1</td>\n",
       "      <td>7</td>\n",
       "      <td>3174.62</td>\n",
       "    </tr>\n",
       "    <tr>\n",
       "      <th>1</th>\n",
       "      <td>12348</td>\n",
       "      <td>74</td>\n",
       "      <td>4</td>\n",
       "      <td>601.64</td>\n",
       "    </tr>\n",
       "    <tr>\n",
       "      <th>2</th>\n",
       "      <td>12349</td>\n",
       "      <td>18</td>\n",
       "      <td>1</td>\n",
       "      <td>1145.35</td>\n",
       "    </tr>\n",
       "    <tr>\n",
       "      <th>3</th>\n",
       "      <td>12350</td>\n",
       "      <td>309</td>\n",
       "      <td>1</td>\n",
       "      <td>334.40</td>\n",
       "    </tr>\n",
       "    <tr>\n",
       "      <th>4</th>\n",
       "      <td>12352</td>\n",
       "      <td>35</td>\n",
       "      <td>7</td>\n",
       "      <td>1505.74</td>\n",
       "    </tr>\n",
       "    <tr>\n",
       "      <th>...</th>\n",
       "      <td>...</td>\n",
       "      <td>...</td>\n",
       "      <td>...</td>\n",
       "      <td>...</td>\n",
       "    </tr>\n",
       "    <tr>\n",
       "      <th>4189</th>\n",
       "      <td>18280</td>\n",
       "      <td>277</td>\n",
       "      <td>1</td>\n",
       "      <td>180.60</td>\n",
       "    </tr>\n",
       "    <tr>\n",
       "      <th>4190</th>\n",
       "      <td>18281</td>\n",
       "      <td>180</td>\n",
       "      <td>1</td>\n",
       "      <td>80.82</td>\n",
       "    </tr>\n",
       "    <tr>\n",
       "      <th>4191</th>\n",
       "      <td>18282</td>\n",
       "      <td>7</td>\n",
       "      <td>2</td>\n",
       "      <td>178.05</td>\n",
       "    </tr>\n",
       "    <tr>\n",
       "      <th>4192</th>\n",
       "      <td>18283</td>\n",
       "      <td>3</td>\n",
       "      <td>16</td>\n",
       "      <td>2045.53</td>\n",
       "    </tr>\n",
       "    <tr>\n",
       "      <th>4193</th>\n",
       "      <td>18287</td>\n",
       "      <td>42</td>\n",
       "      <td>3</td>\n",
       "      <td>1068.74</td>\n",
       "    </tr>\n",
       "  </tbody>\n",
       "</table>\n",
       "<p>4194 rows × 4 columns</p>\n",
       "</div>"
      ],
      "text/plain": [
       "      Müşteri  Recency  Frequency  Monetary\n",
       "0       12347        1          7   3174.62\n",
       "1       12348       74          4    601.64\n",
       "2       12349       18          1   1145.35\n",
       "3       12350      309          1    334.40\n",
       "4       12352       35          7   1505.74\n",
       "...       ...      ...        ...       ...\n",
       "4189    18280      277          1    180.60\n",
       "4190    18281      180          1     80.82\n",
       "4191    18282        7          2    178.05\n",
       "4192    18283        3         16   2045.53\n",
       "4193    18287       42          3   1068.74\n",
       "\n",
       "[4194 rows x 4 columns]"
      ]
     },
     "execution_count": 92,
     "metadata": {},
     "output_type": "execute_result"
    }
   ],
   "source": [
    "RFM=r.merge(f,on=\"Müşteri ID\").merge(m,on=\"Müşteri ID\")\n",
    "RFM=RFM.reset_index()\n",
    "RFM=RFM.rename(columns={\"Müşteri ID\":\"Müşteri\",\"Fatura Tarihi\":\"Recency\",\"Fatura No\":\"Frequency\",\"Toplam Tutar\":\"Monetary\"})\n",
    "RFM"
   ]
  },
  {
   "cell_type": "markdown",
   "id": "904690c4",
   "metadata": {},
   "source": [
    "## Kümeleme:"
   ]
  },
  {
   "cell_type": "code",
   "execution_count": 93,
   "id": "292fe05f",
   "metadata": {},
   "outputs": [
    {
     "data": {
      "text/html": [
       "<div>\n",
       "<style scoped>\n",
       "    .dataframe tbody tr th:only-of-type {\n",
       "        vertical-align: middle;\n",
       "    }\n",
       "\n",
       "    .dataframe tbody tr th {\n",
       "        vertical-align: top;\n",
       "    }\n",
       "\n",
       "    .dataframe thead th {\n",
       "        text-align: right;\n",
       "    }\n",
       "</style>\n",
       "<table border=\"1\" class=\"dataframe\">\n",
       "  <thead>\n",
       "    <tr style=\"text-align: right;\">\n",
       "      <th></th>\n",
       "      <th>Recency</th>\n",
       "      <th>Frequency</th>\n",
       "      <th>Monetary</th>\n",
       "    </tr>\n",
       "  </thead>\n",
       "  <tbody>\n",
       "    <tr>\n",
       "      <th>0</th>\n",
       "      <td>1</td>\n",
       "      <td>7</td>\n",
       "      <td>3174.62</td>\n",
       "    </tr>\n",
       "    <tr>\n",
       "      <th>1</th>\n",
       "      <td>74</td>\n",
       "      <td>4</td>\n",
       "      <td>601.64</td>\n",
       "    </tr>\n",
       "    <tr>\n",
       "      <th>2</th>\n",
       "      <td>18</td>\n",
       "      <td>1</td>\n",
       "      <td>1145.35</td>\n",
       "    </tr>\n",
       "    <tr>\n",
       "      <th>3</th>\n",
       "      <td>309</td>\n",
       "      <td>1</td>\n",
       "      <td>334.40</td>\n",
       "    </tr>\n",
       "    <tr>\n",
       "      <th>4</th>\n",
       "      <td>35</td>\n",
       "      <td>7</td>\n",
       "      <td>1505.74</td>\n",
       "    </tr>\n",
       "    <tr>\n",
       "      <th>...</th>\n",
       "      <td>...</td>\n",
       "      <td>...</td>\n",
       "      <td>...</td>\n",
       "    </tr>\n",
       "    <tr>\n",
       "      <th>4189</th>\n",
       "      <td>277</td>\n",
       "      <td>1</td>\n",
       "      <td>180.60</td>\n",
       "    </tr>\n",
       "    <tr>\n",
       "      <th>4190</th>\n",
       "      <td>180</td>\n",
       "      <td>1</td>\n",
       "      <td>80.82</td>\n",
       "    </tr>\n",
       "    <tr>\n",
       "      <th>4191</th>\n",
       "      <td>7</td>\n",
       "      <td>2</td>\n",
       "      <td>178.05</td>\n",
       "    </tr>\n",
       "    <tr>\n",
       "      <th>4192</th>\n",
       "      <td>3</td>\n",
       "      <td>16</td>\n",
       "      <td>2045.53</td>\n",
       "    </tr>\n",
       "    <tr>\n",
       "      <th>4193</th>\n",
       "      <td>42</td>\n",
       "      <td>3</td>\n",
       "      <td>1068.74</td>\n",
       "    </tr>\n",
       "  </tbody>\n",
       "</table>\n",
       "<p>4194 rows × 3 columns</p>\n",
       "</div>"
      ],
      "text/plain": [
       "      Recency  Frequency  Monetary\n",
       "0           1          7   3174.62\n",
       "1          74          4    601.64\n",
       "2          18          1   1145.35\n",
       "3         309          1    334.40\n",
       "4          35          7   1505.74\n",
       "...       ...        ...       ...\n",
       "4189      277          1    180.60\n",
       "4190      180          1     80.82\n",
       "4191        7          2    178.05\n",
       "4192        3         16   2045.53\n",
       "4193       42          3   1068.74\n",
       "\n",
       "[4194 rows x 3 columns]"
      ]
     },
     "execution_count": 93,
     "metadata": {},
     "output_type": "execute_result"
    }
   ],
   "source": [
    "df=RFM.iloc[:,1:]\n",
    "df"
   ]
  },
  {
   "cell_type": "code",
   "execution_count": 95,
   "id": "93cad314",
   "metadata": {},
   "outputs": [],
   "source": [
    "# Normalizasyon:\n",
    "ms=MinMaxScaler()\n",
    "dfnorm=ms.fit_transform(df)\n",
    "dfnorm=pd.DataFrame(dfnorm,columns=df.columns)"
   ]
  },
  {
   "cell_type": "code",
   "execution_count": 96,
   "id": "dbd50b91",
   "metadata": {},
   "outputs": [
    {
     "data": {
      "image/png": "[encoded data removed]",
      "text/plain": [
       "<Figure size 800x550 with 2 Axes>"
      ]
     },
     "metadata": {},
     "output_type": "display_data"
    },
    {
     "data": {
      "text/plain": [
       "<AxesSubplot:title={'center':'Distortion Score Elbow for KMeans Clustering'}, xlabel='k', ylabel='distortion score'>"
      ]
     },
     "execution_count": 96,
     "metadata": {},
     "output_type": "execute_result"
    }
   ],
   "source": [
    "# Kmeans:\n",
    "kmodel=KMeans(random_state=0)\n",
    "grafik=KElbowVisualizer(kmodel,k=(2,10)) # optimal k değerinin bulunması için uygulanır.\n",
    "grafik.fit(dfnorm)\n",
    "grafik.poof()"
   ]
  },
  {
   "cell_type": "code",
   "execution_count": 97,
   "id": "b93a01a3",
   "metadata": {},
   "outputs": [],
   "source": [
    "kmodel=KMeans(random_state=0,n_clusters=4,init=\"k-means++\")\n",
    "kfit=kmodel.fit(dfnorm)\n",
    "labels=kfit.labels_"
   ]
  },
  {
   "cell_type": "code",
   "execution_count": 98,
   "id": "971374cc",
   "metadata": {},
   "outputs": [],
   "source": [
    "RFM[\"Labels\"]=labels"
   ]
  },
  {
   "cell_type": "code",
   "execution_count": 99,
   "id": "ccd5d040",
   "metadata": {
    "scrolled": true
   },
   "outputs": [
    {
     "data": {
      "image/png": "[encoded data removed]",
      "text/plain": [
       "<Figure size 800x550 with 1 Axes>"
      ]
     },
     "metadata": {},
     "output_type": "display_data"
    }
   ],
   "source": [
    "sns.scatterplot(x=\"Recency\",y=\"Frequency\",data=dfnorm,hue=labels,palette=\"deep\")\n",
    "plt.show()"
   ]
  },
  {
   "cell_type": "code",
   "execution_count": 100,
   "id": "80bf0403",
   "metadata": {},
   "outputs": [
    {
     "data": {
      "image/png": "[encoded data removed]",
      "text/plain": [
       "<Figure size 800x550 with 1 Axes>"
      ]
     },
     "metadata": {},
     "output_type": "display_data"
    }
   ],
   "source": [
    "sns.scatterplot(x=\"Labels\",y=\"Müşteri\",data=RFM,hue=labels,palette=\"deep\")\n",
    "plt.xlim([-1,5])\n",
    "plt.show()"
   ]
  },
  {
   "cell_type": "code",
   "execution_count": 102,
   "id": "ad8e59ed",
   "metadata": {},
   "outputs": [
    {
     "name": "stdout",
     "output_type": "stream",
     "text": [
      "Labels\n",
      "0    1037\n",
      "1     506\n",
      "2    2038\n",
      "3     613\n",
      "Name: Müşteri, dtype: int64\n"
     ]
    }
   ],
   "source": [
    "print(RFM.groupby(\"Labels\")[\"Müşteri\"].count())"
   ]
  },
  {
   "cell_type": "code",
   "execution_count": 103,
   "id": "90e3bafc",
   "metadata": {},
   "outputs": [
    {
     "name": "stdout",
     "output_type": "stream",
     "text": [
      "           Recency  Frequency     Monetary\n",
      "Labels                                    \n",
      "0        77.222758   2.600771   706.376424\n",
      "1       304.104743   1.328063   275.895336\n",
      "2        18.124632   6.031894  1590.804888\n",
      "3       184.539967   1.866232   423.224716\n"
     ]
    }
   ],
   "source": [
    "print(RFM.groupby(\"Labels\").mean().iloc[:,1:])"
   ]
  },
  {
   "cell_type": "markdown",
   "id": "ff4df409",
   "metadata": {},
   "source": [
    "* 1. Grup'un Recency değeri yüksek. Bu grup firmadan uzun zamandır alışveriş yapmıyor. Bu gruba dahil olan müşteriler ortalama 1.3 kez alış veriş yapmış ve bu alış verişleri için ortalama 275 dolar ödeme yapmışlar.\n",
    "* 3. Grup kaybedilmemesi gereken müşteri grubudur. Recency değeri en düşük, alış veriş yapma sıklıkları en yüksek ve alış veriş başına ortalama en çok ödemeyi yapan gruptur."
   ]
  },
  {
   "cell_type": "code",
   "execution_count": null,
   "id": "edde322e",
   "metadata": {},
   "outputs": [],
   "source": []
  }
 ],
 "metadata": {
  "kernelspec": {
   "display_name": "Python 3 (ipykernel)",
   "language": "python",
   "name": "python3"
  },
  "language_info": {
   "codemirror_mode": {
    "name": "ipython",
    "version": 3
   },
   "file_extension": ".py",
   "mimetype": "text/x-python",
   "name": "python",
   "nbconvert_exporter": "python",
   "pygments_lexer": "ipython3",
   "version": "3.9.13"
  }
 },
 "nbformat": 4,
 "nbformat_minor": 5
}
